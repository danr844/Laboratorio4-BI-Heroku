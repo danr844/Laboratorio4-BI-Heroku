{
 "cells": [
  {
   "cell_type": "markdown",
   "metadata": {
    "id": "xXCbNU8XrWzu"
   },
   "source": [
    "# Laboratorio 4 - BI"
   ]
  },
  {
   "cell_type": "markdown",
   "metadata": {},
   "source": [
    " ### Para este laboratorio nos vamos a basar en el modelo de regresión lineal del laboratorio 3 para realizar un pipeline del modelo y así ofrecer un modelo automatizado con una api. A continuación se va a replicar el laboratorio 3 hasta el literal 6 donde se realiza la construcción del pipeline."
   ]
  },
  {
   "cell_type": "markdown",
   "metadata": {
    "id": "ZZVR5jQ_rWzy"
   },
   "source": [
    "Parte del laboratorio 3: se plantea resolver el problema siguiendo los siguientes pasos a lo largo de este Notebook:\n",
    "\n",
    "* Entendimiento de los datos y Preparación de datos.\n",
    "* Identificación de variables a utilizar\n",
    "* Modelamiento.\n",
    "* Evaluación cuantitativa\n",
    "* Evaluación cualitativa\n",
    "* Exportar el modelo\n",
    "\n",
    "\n",
    "En el perfilamiento de datos, se desea saber cuántos datos se tienen por filas y columnas, los tipos de datos, la integridad de los datos, su distribución, etc.\n",
    "\n",
    "En orden de este proceso, inicialmente se procede a importar las librerías a usar durante al análisis y posteriormente el perfilamiento de los datos.\n",
    "\n",
    "Se escoge un modelo de regresión lineal, ya que en los datos se nos ofrece una variable Objetivo \"life expectancy\". numérica, la cuál se desea predecir, por lo tanto, un modelo como el nombrado anteriormente es ideal para esta propuesta."
   ]
  },
  {
   "cell_type": "markdown",
   "metadata": {
    "id": "Ipp-yeD3TK5G"
   },
   "source": [
    "## Entendimiento del negocio"
   ]
  },
  {
   "cell_type": "markdown",
   "metadata": {
    "id": "E9xKl_kdTNJt"
   },
   "source": [
    "La Clínica de los Alpes desea conocer cuales son los principales factores de muerte que disminuyen la expectativa de vida de los ciudadanos de su país para realizar campañas de concientización con el fin de mejorar la calidad de vida de los ciudadanos.\n",
    "La Clínica cuenta con un conjunto de datos sobre las expectativas de vida a lo largo de los años en los Alpes y países cercanos, junto con algunos indicadores que miden la salud de una persona, como lo puede ser el índice de masa corporal, la incidencia de varias enfermedades y algunos factores socioculturales como el consumo de alcohol o tabaco.\n"
   ]
  },
  {
   "cell_type": "markdown",
   "metadata": {
    "id": "LxwXpu9OrWzz"
   },
   "source": [
    "### 0. Importación de librerías \n",
    "\n",
    "En las siguientes líneas de código se importan las librerías y herramientas necesarias para desarrollar el caso de uso."
   ]
  },
  {
   "cell_type": "code",
   "execution_count": 1,
   "metadata": {
    "id": "wLxo0_2YrWzz"
   },
   "outputs": [],
   "source": [
    "# Librería para comando de sistema\n",
    "import os\n",
    "# Librerías para manejo de datos\n",
    "import pandas as pd\n",
    "import numpy as np\n",
    "import matplotlib.pyplot as plt\n",
    "import seaborn as sns\n",
    "# Librerías de aprendizaje automático.\n",
    "# Para realizar la separación del conjunto de aprendizaje en entrenamiento y test.\n",
    "from sklearn.model_selection import train_test_split\n",
    "# Para construir un modelo con el algoritmo de regresión lineal\n",
    "from sklearn.linear_model import LinearRegression\n",
    "# Para determinar el rendimiento del modelo con las métricas MSE, MAE y R2\n",
    "from sklearn.metrics import mean_squared_error, mean_absolute_error, r2_score\n",
    "# Para sacar un reporte estadístico que podemos usar para determinar las importancia de las variables explicativas.\n",
    "import statsmodels.api as sm \n",
    "from sklearn import preprocessing\n",
    "from sklearn.preprocessing import StandardScaler"
   ]
  },
  {
   "cell_type": "markdown",
   "metadata": {
    "id": "5ghZSLdmrWz1"
   },
   "source": [
    "# 1. Entendimiento de los datos y preparación de los datos\n",
    "\n",
    "Se nos entregó un archivo con varias columnas numéricas, rangos muy distintos y una columna sin nombre, a partir de estos datos se nos solicitó predecir la expectativa de vida (Life expectancy) y a continuación se mostrará el análisis de calidad de los datos: "
   ]
  },
  {
   "cell_type": "markdown",
   "metadata": {
    "id": "msHxODb_rWz1"
   },
   "source": [
    "### Carga de los datos\n",
    "A través de la librería **pandas** podemos realizar la carga de datos desde diferentes fuentes de información, en este caso se realizará la carga de un archivo plano csv (archivo separado por comas)."
   ]
  },
  {
   "cell_type": "code",
   "execution_count": 2,
   "metadata": {
    "id": "kU0KNk4krWz2"
   },
   "outputs": [],
   "source": [
    "# Se cargan los datos. \n",
    "data=pd.read_csv('202210_Laboratorio3_data_DatosTrain.csv', sep=',', encoding = 'utf-8')"
   ]
  },
  {
   "cell_type": "code",
   "execution_count": 3,
   "metadata": {},
   "outputs": [],
   "source": [
    "#data.to_json(r'Lab4Datos.json', orient='records')"
   ]
  },
  {
   "cell_type": "code",
   "execution_count": 4,
   "metadata": {
    "colab": {
     "base_uri": "https://localhost:8080/"
    },
    "id": "jNNHatYWrWz2",
    "outputId": "3bcc9dc8-3b35-48b8-e7bc-e222b08772fd"
   },
   "outputs": [
    {
     "data": {
      "text/plain": [
       "(2644, 20)"
      ]
     },
     "execution_count": 4,
     "metadata": {},
     "output_type": "execute_result"
    }
   ],
   "source": [
    "# Cantidad de datos y número de variables\n",
    "data.shape"
   ]
  },
  {
   "cell_type": "code",
   "execution_count": 5,
   "metadata": {
    "colab": {
     "base_uri": "https://localhost:8080/"
    },
    "id": "Ct1W4VIZrWz3",
    "outputId": "2cbf8b1b-a94a-46b9-8562-fa2efdea022b"
   },
   "outputs": [
    {
     "data": {
      "text/plain": [
       "Unnamed: 0                         0\n",
       "Life expectancy                    0\n",
       "Adult Mortality                    0\n",
       "infant deaths                      0\n",
       "Alcohol                            0\n",
       "percentage expenditure             0\n",
       "Hepatitis B                        0\n",
       "Measles                            0\n",
       "BMI                                0\n",
       "under-five deaths                  0\n",
       "Polio                              0\n",
       "Total expenditure                  0\n",
       "Diphtheria                         0\n",
       "HIV/AIDS                           0\n",
       "GDP                                0\n",
       "Population                         0\n",
       "thinness  10-19 years              0\n",
       "thinness 5-9 years                 0\n",
       "Income composition of resources    0\n",
       "Schooling                          0\n",
       "dtype: int64"
      ]
     },
     "execution_count": 5,
     "metadata": {},
     "output_type": "execute_result"
    }
   ],
   "source": [
    "#Muestra las casillas con nulos de cada columna\n",
    "data.isnull().sum()"
   ]
  },
  {
   "cell_type": "code",
   "execution_count": 6,
   "metadata": {
    "colab": {
     "base_uri": "https://localhost:8080/",
     "height": 416
    },
    "id": "2iy2Zyv3rWz4",
    "outputId": "03a00637-12a6-44e0-e1b6-9b412bf1dea5"
   },
   "outputs": [
    {
     "data": {
      "text/html": [
       "<div>\n",
       "<style scoped>\n",
       "    .dataframe tbody tr th:only-of-type {\n",
       "        vertical-align: middle;\n",
       "    }\n",
       "\n",
       "    .dataframe tbody tr th {\n",
       "        vertical-align: top;\n",
       "    }\n",
       "\n",
       "    .dataframe thead th {\n",
       "        text-align: right;\n",
       "    }\n",
       "</style>\n",
       "<table border=\"1\" class=\"dataframe\">\n",
       "  <thead>\n",
       "    <tr style=\"text-align: right;\">\n",
       "      <th></th>\n",
       "      <th>Life expectancy</th>\n",
       "      <th>Adult Mortality</th>\n",
       "      <th>infant deaths</th>\n",
       "      <th>Alcohol</th>\n",
       "      <th>percentage expenditure</th>\n",
       "      <th>Hepatitis B</th>\n",
       "      <th>Measles</th>\n",
       "      <th>BMI</th>\n",
       "      <th>under-five deaths</th>\n",
       "      <th>Polio</th>\n",
       "      <th>Total expenditure</th>\n",
       "      <th>Diphtheria</th>\n",
       "      <th>HIV/AIDS</th>\n",
       "      <th>GDP</th>\n",
       "      <th>Population</th>\n",
       "      <th>thinness  10-19 years</th>\n",
       "      <th>thinness 5-9 years</th>\n",
       "      <th>Income composition of resources</th>\n",
       "      <th>Schooling</th>\n",
       "    </tr>\n",
       "  </thead>\n",
       "  <tbody>\n",
       "    <tr>\n",
       "      <th>count</th>\n",
       "      <td>2644.000000</td>\n",
       "      <td>2644.000000</td>\n",
       "      <td>2644.00000</td>\n",
       "      <td>2644.000000</td>\n",
       "      <td>2644.000000</td>\n",
       "      <td>2644.000000</td>\n",
       "      <td>2644.000000</td>\n",
       "      <td>2644.000000</td>\n",
       "      <td>2644.000000</td>\n",
       "      <td>2644.000000</td>\n",
       "      <td>2644.000000</td>\n",
       "      <td>2644.000000</td>\n",
       "      <td>2644.000000</td>\n",
       "      <td>2644.000000</td>\n",
       "      <td>2.644000e+03</td>\n",
       "      <td>2644.000000</td>\n",
       "      <td>2644.000000</td>\n",
       "      <td>2644.000000</td>\n",
       "      <td>2644.000000</td>\n",
       "    </tr>\n",
       "    <tr>\n",
       "      <th>mean</th>\n",
       "      <td>69.068797</td>\n",
       "      <td>162.465204</td>\n",
       "      <td>31.14410</td>\n",
       "      <td>4.328684</td>\n",
       "      <td>792.465552</td>\n",
       "      <td>65.532905</td>\n",
       "      <td>2432.922844</td>\n",
       "      <td>37.662746</td>\n",
       "      <td>43.160363</td>\n",
       "      <td>81.967095</td>\n",
       "      <td>5.431078</td>\n",
       "      <td>81.926626</td>\n",
       "      <td>1.617095</td>\n",
       "      <td>6726.080237</td>\n",
       "      <td>1.052152e+07</td>\n",
       "      <td>4.743911</td>\n",
       "      <td>4.778215</td>\n",
       "      <td>0.602879</td>\n",
       "      <td>11.482678</td>\n",
       "    </tr>\n",
       "    <tr>\n",
       "      <th>std</th>\n",
       "      <td>10.351757</td>\n",
       "      <td>121.186953</td>\n",
       "      <td>123.93232</td>\n",
       "      <td>4.146851</td>\n",
       "      <td>2077.768681</td>\n",
       "      <td>39.221347</td>\n",
       "      <td>11868.652439</td>\n",
       "      <td>20.339750</td>\n",
       "      <td>168.485929</td>\n",
       "      <td>24.521529</td>\n",
       "      <td>2.821982</td>\n",
       "      <td>24.502772</td>\n",
       "      <td>4.822150</td>\n",
       "      <td>13873.881462</td>\n",
       "      <td>5.680977e+07</td>\n",
       "      <td>4.467839</td>\n",
       "      <td>4.553418</td>\n",
       "      <td>0.244040</td>\n",
       "      <td>4.170684</td>\n",
       "    </tr>\n",
       "    <tr>\n",
       "      <th>min</th>\n",
       "      <td>0.000000</td>\n",
       "      <td>0.000000</td>\n",
       "      <td>0.00000</td>\n",
       "      <td>0.000000</td>\n",
       "      <td>0.000000</td>\n",
       "      <td>0.000000</td>\n",
       "      <td>0.000000</td>\n",
       "      <td>0.000000</td>\n",
       "      <td>0.000000</td>\n",
       "      <td>0.000000</td>\n",
       "      <td>0.000000</td>\n",
       "      <td>0.000000</td>\n",
       "      <td>0.100000</td>\n",
       "      <td>0.000000</td>\n",
       "      <td>0.000000e+00</td>\n",
       "      <td>0.000000</td>\n",
       "      <td>0.000000</td>\n",
       "      <td>0.000000</td>\n",
       "      <td>0.000000</td>\n",
       "    </tr>\n",
       "    <tr>\n",
       "      <th>25%</th>\n",
       "      <td>62.975000</td>\n",
       "      <td>73.000000</td>\n",
       "      <td>0.00000</td>\n",
       "      <td>0.407500</td>\n",
       "      <td>7.044565</td>\n",
       "      <td>14.750000</td>\n",
       "      <td>0.000000</td>\n",
       "      <td>18.900000</td>\n",
       "      <td>0.000000</td>\n",
       "      <td>78.000000</td>\n",
       "      <td>3.677500</td>\n",
       "      <td>78.000000</td>\n",
       "      <td>0.100000</td>\n",
       "      <td>238.626882</td>\n",
       "      <td>1.285900e+04</td>\n",
       "      <td>1.500000</td>\n",
       "      <td>1.500000</td>\n",
       "      <td>0.473000</td>\n",
       "      <td>9.500000</td>\n",
       "    </tr>\n",
       "    <tr>\n",
       "      <th>50%</th>\n",
       "      <td>72.100000</td>\n",
       "      <td>143.000000</td>\n",
       "      <td>2.00000</td>\n",
       "      <td>3.225000</td>\n",
       "      <td>70.648787</td>\n",
       "      <td>87.000000</td>\n",
       "      <td>14.000000</td>\n",
       "      <td>43.000000</td>\n",
       "      <td>3.000000</td>\n",
       "      <td>93.000000</td>\n",
       "      <td>5.550000</td>\n",
       "      <td>93.000000</td>\n",
       "      <td>0.100000</td>\n",
       "      <td>1254.652810</td>\n",
       "      <td>6.227965e+05</td>\n",
       "      <td>3.200000</td>\n",
       "      <td>3.200000</td>\n",
       "      <td>0.668000</td>\n",
       "      <td>12.300000</td>\n",
       "    </tr>\n",
       "    <tr>\n",
       "      <th>75%</th>\n",
       "      <td>75.800000</td>\n",
       "      <td>226.250000</td>\n",
       "      <td>18.00000</td>\n",
       "      <td>7.495000</td>\n",
       "      <td>485.959559</td>\n",
       "      <td>96.000000</td>\n",
       "      <td>329.750000</td>\n",
       "      <td>55.900000</td>\n",
       "      <td>23.000000</td>\n",
       "      <td>97.000000</td>\n",
       "      <td>7.372500</td>\n",
       "      <td>97.000000</td>\n",
       "      <td>0.800000</td>\n",
       "      <td>5277.746332</td>\n",
       "      <td>5.194999e+06</td>\n",
       "      <td>7.200000</td>\n",
       "      <td>7.300000</td>\n",
       "      <td>0.781000</td>\n",
       "      <td>14.200000</td>\n",
       "    </tr>\n",
       "    <tr>\n",
       "      <th>max</th>\n",
       "      <td>89.000000</td>\n",
       "      <td>699.000000</td>\n",
       "      <td>1800.00000</td>\n",
       "      <td>17.870000</td>\n",
       "      <td>19479.911610</td>\n",
       "      <td>99.000000</td>\n",
       "      <td>212183.000000</td>\n",
       "      <td>87.300000</td>\n",
       "      <td>2500.000000</td>\n",
       "      <td>99.000000</td>\n",
       "      <td>17.240000</td>\n",
       "      <td>99.000000</td>\n",
       "      <td>50.600000</td>\n",
       "      <td>119172.741800</td>\n",
       "      <td>1.293859e+09</td>\n",
       "      <td>27.700000</td>\n",
       "      <td>28.600000</td>\n",
       "      <td>0.948000</td>\n",
       "      <td>20.700000</td>\n",
       "    </tr>\n",
       "  </tbody>\n",
       "</table>\n",
       "</div>"
      ],
      "text/plain": [
       "       Life expectancy  Adult Mortality  infant deaths      Alcohol  \\\n",
       "count      2644.000000      2644.000000     2644.00000  2644.000000   \n",
       "mean         69.068797       162.465204       31.14410     4.328684   \n",
       "std          10.351757       121.186953      123.93232     4.146851   \n",
       "min           0.000000         0.000000        0.00000     0.000000   \n",
       "25%          62.975000        73.000000        0.00000     0.407500   \n",
       "50%          72.100000       143.000000        2.00000     3.225000   \n",
       "75%          75.800000       226.250000       18.00000     7.495000   \n",
       "max          89.000000       699.000000     1800.00000    17.870000   \n",
       "\n",
       "       percentage expenditure  Hepatitis B        Measles          BMI  \\\n",
       "count             2644.000000  2644.000000    2644.000000  2644.000000   \n",
       "mean               792.465552    65.532905    2432.922844    37.662746   \n",
       "std               2077.768681    39.221347   11868.652439    20.339750   \n",
       "min                  0.000000     0.000000       0.000000     0.000000   \n",
       "25%                  7.044565    14.750000       0.000000    18.900000   \n",
       "50%                 70.648787    87.000000      14.000000    43.000000   \n",
       "75%                485.959559    96.000000     329.750000    55.900000   \n",
       "max              19479.911610    99.000000  212183.000000    87.300000   \n",
       "\n",
       "       under-five deaths        Polio  Total expenditure   Diphtheria  \\\n",
       "count        2644.000000  2644.000000        2644.000000  2644.000000   \n",
       "mean           43.160363    81.967095           5.431078    81.926626   \n",
       "std           168.485929    24.521529           2.821982    24.502772   \n",
       "min             0.000000     0.000000           0.000000     0.000000   \n",
       "25%             0.000000    78.000000           3.677500    78.000000   \n",
       "50%             3.000000    93.000000           5.550000    93.000000   \n",
       "75%            23.000000    97.000000           7.372500    97.000000   \n",
       "max          2500.000000    99.000000          17.240000    99.000000   \n",
       "\n",
       "          HIV/AIDS            GDP    Population  thinness  10-19 years  \\\n",
       "count  2644.000000    2644.000000  2.644000e+03            2644.000000   \n",
       "mean      1.617095    6726.080237  1.052152e+07               4.743911   \n",
       "std       4.822150   13873.881462  5.680977e+07               4.467839   \n",
       "min       0.100000       0.000000  0.000000e+00               0.000000   \n",
       "25%       0.100000     238.626882  1.285900e+04               1.500000   \n",
       "50%       0.100000    1254.652810  6.227965e+05               3.200000   \n",
       "75%       0.800000    5277.746332  5.194999e+06               7.200000   \n",
       "max      50.600000  119172.741800  1.293859e+09              27.700000   \n",
       "\n",
       "       thinness 5-9 years  Income composition of resources    Schooling  \n",
       "count         2644.000000                      2644.000000  2644.000000  \n",
       "mean             4.778215                         0.602879    11.482678  \n",
       "std              4.553418                         0.244040     4.170684  \n",
       "min              0.000000                         0.000000     0.000000  \n",
       "25%              1.500000                         0.473000     9.500000  \n",
       "50%              3.200000                         0.668000    12.300000  \n",
       "75%              7.300000                         0.781000    14.200000  \n",
       "max             28.600000                         0.948000    20.700000  "
      ]
     },
     "execution_count": 6,
     "metadata": {},
     "output_type": "execute_result"
    }
   ],
   "source": [
    "# Eliminación de los datos que no se consideran útiles para el análisis de los datos\n",
    "data = data.drop(['Unnamed: 0'], axis=1)\n",
    "data.describe()"
   ]
  },
  {
   "cell_type": "code",
   "execution_count": 7,
   "metadata": {
    "id": "kBx4kbS6rWz5"
   },
   "outputs": [],
   "source": [
    "# Se eliminan las filas con nulos y los duplicados\n",
    "data = data.dropna()\n",
    "data = data.drop_duplicates()"
   ]
  },
  {
   "cell_type": "code",
   "execution_count": 8,
   "metadata": {
    "colab": {
     "base_uri": "https://localhost:8080/"
    },
    "id": "3L_d3d4irWz6",
    "outputId": "e9c3478f-04d8-4fd1-ee8c-3921dc7eef4f"
   },
   "outputs": [
    {
     "name": "stdout",
     "output_type": "stream",
     "text": [
      "<class 'pandas.core.frame.DataFrame'>\n",
      "Int64Index: 2644 entries, 0 to 2643\n",
      "Data columns (total 19 columns):\n",
      " #   Column                           Non-Null Count  Dtype  \n",
      "---  ------                           --------------  -----  \n",
      " 0   Life expectancy                  2644 non-null   float64\n",
      " 1   Adult Mortality                  2644 non-null   float64\n",
      " 2   infant deaths                    2644 non-null   int64  \n",
      " 3   Alcohol                          2644 non-null   float64\n",
      " 4   percentage expenditure           2644 non-null   float64\n",
      " 5   Hepatitis B                      2644 non-null   float64\n",
      " 6   Measles                          2644 non-null   int64  \n",
      " 7   BMI                              2644 non-null   float64\n",
      " 8   under-five deaths                2644 non-null   int64  \n",
      " 9   Polio                            2644 non-null   float64\n",
      " 10  Total expenditure                2644 non-null   float64\n",
      " 11  Diphtheria                       2644 non-null   float64\n",
      " 12  HIV/AIDS                         2644 non-null   float64\n",
      " 13  GDP                              2644 non-null   float64\n",
      " 14  Population                       2644 non-null   float64\n",
      " 15  thinness  10-19 years            2644 non-null   float64\n",
      " 16  thinness 5-9 years               2644 non-null   float64\n",
      " 17  Income composition of resources  2644 non-null   float64\n",
      " 18  Schooling                        2644 non-null   float64\n",
      "dtypes: float64(16), int64(3)\n",
      "memory usage: 413.1 KB\n"
     ]
    }
   ],
   "source": [
    "#Verificamos el tipo de cada columna\n",
    "data.info()"
   ]
  },
  {
   "cell_type": "code",
   "execution_count": 9,
   "metadata": {
    "colab": {
     "base_uri": "https://localhost:8080/"
    },
    "id": "Cdjv6AlYOq6I",
    "outputId": "0271e4aa-c32a-4759-92e4-c849f883c18b"
   },
   "outputs": [
    {
     "data": {
      "text/plain": [
       "0.0           540\n",
       "444.0           4\n",
       "718239.0        2\n",
       "1141.0          2\n",
       "127445.0        2\n",
       "             ... \n",
       "3866243.0       1\n",
       "1725744.0       1\n",
       "83184892.0      1\n",
       "6542547.0       1\n",
       "595962.0        1\n",
       "Name: Population, Length: 2098, dtype: int64"
      ]
     },
     "execution_count": 9,
     "metadata": {},
     "output_type": "execute_result"
    }
   ],
   "source": [
    "#Aquí se revisó cada una de las variables para encontrar valores extraños y quitarlos más adelante\n",
    "data['Population'].value_counts()"
   ]
  },
  {
   "cell_type": "code",
   "execution_count": 10,
   "metadata": {
    "colab": {
     "base_uri": "https://localhost:8080/"
    },
    "id": "BGUtct8UVSRF",
    "outputId": "69a47a91-d88c-4bc9-f373-73383bfd2935"
   },
   "outputs": [
    {
     "data": {
      "text/plain": [
       "0         899\n",
       "1          98\n",
       "2          66\n",
       "3          41\n",
       "4          30\n",
       "         ... \n",
       "110927      1\n",
       "333         1\n",
       "327         1\n",
       "319         1\n",
       "24457       1\n",
       "Name: Measles, Length: 859, dtype: int64"
      ]
     },
     "execution_count": 10,
     "metadata": {},
     "output_type": "execute_result"
    }
   ],
   "source": [
    "#Measles fue de las columnas más sospechosas ya que su media da por arriba de 2000 cuando no puede pasar de 1000 habitantes\n",
    "data['Measles'].value_counts()"
   ]
  },
  {
   "cell_type": "code",
   "execution_count": 11,
   "metadata": {
    "id": "ZVs3GE9VNz1X"
   },
   "outputs": [],
   "source": [
    "#Ahora basándonos en datos lógicos pondremos los límites para diferentes variables tales como:\n",
    "#No pueden morir 0 adultos y no pueden morir más de 1000 de solo 1000\n",
    "data = data[data['Adult Mortality'].between(1,1000)]\n",
    "#No pueden morir más de 1000 de solo 1000\n",
    "data = data[data['infant deaths'].between(0,1000)]\n",
    "#No pueden haber más de mil personas\n",
    "data = data[data['Measles'].between(0,1000)]\n",
    "#data = data.drop(['Measles'], axis=1)\n",
    "#No existen personas con un BMI inferior a 5 ni superior a 70\n",
    "data = data[data['BMI'].between(5,70)]\n",
    "#No pueden morir más de 1000 niños en un máximo de 1000 personas\n",
    "data = data[data['under-five deaths'].between(0,1000)]\n",
    "#No es posible un GDP de 0\n",
    "data = data[data['GDP'].between(1,2000000)]\n",
    "#No es posible un país con población de 0\n",
    "data = data[data['Population'].between(1,2000000000000)]"
   ]
  },
  {
   "cell_type": "code",
   "execution_count": 12,
   "metadata": {
    "colab": {
     "base_uri": "https://localhost:8080/",
     "height": 416
    },
    "id": "VRybwHZEV8H_",
    "outputId": "6aaad292-87d1-45ec-aa3e-632970bbe473"
   },
   "outputs": [
    {
     "data": {
      "text/html": [
       "<div>\n",
       "<style scoped>\n",
       "    .dataframe tbody tr th:only-of-type {\n",
       "        vertical-align: middle;\n",
       "    }\n",
       "\n",
       "    .dataframe tbody tr th {\n",
       "        vertical-align: top;\n",
       "    }\n",
       "\n",
       "    .dataframe thead th {\n",
       "        text-align: right;\n",
       "    }\n",
       "</style>\n",
       "<table border=\"1\" class=\"dataframe\">\n",
       "  <thead>\n",
       "    <tr style=\"text-align: right;\">\n",
       "      <th></th>\n",
       "      <th>Life expectancy</th>\n",
       "      <th>Adult Mortality</th>\n",
       "      <th>infant deaths</th>\n",
       "      <th>Alcohol</th>\n",
       "      <th>percentage expenditure</th>\n",
       "      <th>Hepatitis B</th>\n",
       "      <th>Measles</th>\n",
       "      <th>BMI</th>\n",
       "      <th>under-five deaths</th>\n",
       "      <th>Polio</th>\n",
       "      <th>Total expenditure</th>\n",
       "      <th>Diphtheria</th>\n",
       "      <th>HIV/AIDS</th>\n",
       "      <th>GDP</th>\n",
       "      <th>Population</th>\n",
       "      <th>thinness  10-19 years</th>\n",
       "      <th>thinness 5-9 years</th>\n",
       "      <th>Income composition of resources</th>\n",
       "      <th>Schooling</th>\n",
       "    </tr>\n",
       "  </thead>\n",
       "  <tbody>\n",
       "    <tr>\n",
       "      <th>count</th>\n",
       "      <td>1582.000000</td>\n",
       "      <td>1582.000000</td>\n",
       "      <td>1582.000000</td>\n",
       "      <td>1582.000000</td>\n",
       "      <td>1582.000000</td>\n",
       "      <td>1582.000000</td>\n",
       "      <td>1582.000000</td>\n",
       "      <td>1582.000000</td>\n",
       "      <td>1582.000000</td>\n",
       "      <td>1582.000000</td>\n",
       "      <td>1582.000000</td>\n",
       "      <td>1582.000000</td>\n",
       "      <td>1582.000000</td>\n",
       "      <td>1582.000000</td>\n",
       "      <td>1.582000e+03</td>\n",
       "      <td>1582.000000</td>\n",
       "      <td>1582.000000</td>\n",
       "      <td>1582.000000</td>\n",
       "      <td>1582.000000</td>\n",
       "    </tr>\n",
       "    <tr>\n",
       "      <th>mean</th>\n",
       "      <td>70.612895</td>\n",
       "      <td>156.886220</td>\n",
       "      <td>10.640961</td>\n",
       "      <td>5.002832</td>\n",
       "      <td>1071.425874</td>\n",
       "      <td>64.793932</td>\n",
       "      <td>94.034766</td>\n",
       "      <td>41.102149</td>\n",
       "      <td>15.000000</td>\n",
       "      <td>84.096713</td>\n",
       "      <td>5.903369</td>\n",
       "      <td>84.338180</td>\n",
       "      <td>1.780721</td>\n",
       "      <td>8219.295555</td>\n",
       "      <td>7.031254e+06</td>\n",
       "      <td>4.097092</td>\n",
       "      <td>4.133881</td>\n",
       "      <td>0.656290</td>\n",
       "      <td>12.562200</td>\n",
       "    </tr>\n",
       "    <tr>\n",
       "      <th>std</th>\n",
       "      <td>9.494451</td>\n",
       "      <td>122.146239</td>\n",
       "      <td>26.981874</td>\n",
       "      <td>4.239616</td>\n",
       "      <td>2490.816947</td>\n",
       "      <td>39.841232</td>\n",
       "      <td>194.893622</td>\n",
       "      <td>18.288298</td>\n",
       "      <td>39.475563</td>\n",
       "      <td>22.857425</td>\n",
       "      <td>2.778640</td>\n",
       "      <td>22.723346</td>\n",
       "      <td>5.582706</td>\n",
       "      <td>15250.303796</td>\n",
       "      <td>1.851775e+07</td>\n",
       "      <td>3.837571</td>\n",
       "      <td>3.916162</td>\n",
       "      <td>0.204719</td>\n",
       "      <td>3.277007</td>\n",
       "    </tr>\n",
       "    <tr>\n",
       "      <th>min</th>\n",
       "      <td>36.300000</td>\n",
       "      <td>1.000000</td>\n",
       "      <td>0.000000</td>\n",
       "      <td>0.000000</td>\n",
       "      <td>0.000000</td>\n",
       "      <td>0.000000</td>\n",
       "      <td>0.000000</td>\n",
       "      <td>5.000000</td>\n",
       "      <td>0.000000</td>\n",
       "      <td>0.000000</td>\n",
       "      <td>0.000000</td>\n",
       "      <td>0.000000</td>\n",
       "      <td>0.100000</td>\n",
       "      <td>5.668726</td>\n",
       "      <td>3.400000e+01</td>\n",
       "      <td>0.100000</td>\n",
       "      <td>0.100000</td>\n",
       "      <td>0.000000</td>\n",
       "      <td>0.000000</td>\n",
       "    </tr>\n",
       "    <tr>\n",
       "      <th>25%</th>\n",
       "      <td>64.900000</td>\n",
       "      <td>68.000000</td>\n",
       "      <td>0.000000</td>\n",
       "      <td>0.680000</td>\n",
       "      <td>29.030758</td>\n",
       "      <td>9.000000</td>\n",
       "      <td>0.000000</td>\n",
       "      <td>23.300000</td>\n",
       "      <td>0.000000</td>\n",
       "      <td>83.000000</td>\n",
       "      <td>4.340000</td>\n",
       "      <td>84.000000</td>\n",
       "      <td>0.100000</td>\n",
       "      <td>521.855232</td>\n",
       "      <td>1.775390e+05</td>\n",
       "      <td>1.300000</td>\n",
       "      <td>1.300000</td>\n",
       "      <td>0.533500</td>\n",
       "      <td>10.600000</td>\n",
       "    </tr>\n",
       "    <tr>\n",
       "      <th>50%</th>\n",
       "      <td>73.000000</td>\n",
       "      <td>134.000000</td>\n",
       "      <td>2.000000</td>\n",
       "      <td>4.435000</td>\n",
       "      <td>160.057734</td>\n",
       "      <td>87.000000</td>\n",
       "      <td>4.000000</td>\n",
       "      <td>47.550000</td>\n",
       "      <td>2.000000</td>\n",
       "      <td>93.000000</td>\n",
       "      <td>6.150000</td>\n",
       "      <td>93.000000</td>\n",
       "      <td>0.100000</td>\n",
       "      <td>2286.031700</td>\n",
       "      <td>1.134978e+06</td>\n",
       "      <td>2.300000</td>\n",
       "      <td>2.400000</td>\n",
       "      <td>0.700000</td>\n",
       "      <td>12.800000</td>\n",
       "    </tr>\n",
       "    <tr>\n",
       "      <th>75%</th>\n",
       "      <td>77.300000</td>\n",
       "      <td>219.000000</td>\n",
       "      <td>10.000000</td>\n",
       "      <td>8.137500</td>\n",
       "      <td>669.808138</td>\n",
       "      <td>95.000000</td>\n",
       "      <td>70.000000</td>\n",
       "      <td>56.700000</td>\n",
       "      <td>12.000000</td>\n",
       "      <td>97.000000</td>\n",
       "      <td>7.930000</td>\n",
       "      <td>97.000000</td>\n",
       "      <td>0.700000</td>\n",
       "      <td>6766.560844</td>\n",
       "      <td>5.731820e+06</td>\n",
       "      <td>6.500000</td>\n",
       "      <td>6.500000</td>\n",
       "      <td>0.808750</td>\n",
       "      <td>15.100000</td>\n",
       "    </tr>\n",
       "    <tr>\n",
       "      <th>max</th>\n",
       "      <td>89.000000</td>\n",
       "      <td>699.000000</td>\n",
       "      <td>549.000000</td>\n",
       "      <td>17.870000</td>\n",
       "      <td>19479.911610</td>\n",
       "      <td>99.000000</td>\n",
       "      <td>999.000000</td>\n",
       "      <td>69.700000</td>\n",
       "      <td>879.000000</td>\n",
       "      <td>99.000000</td>\n",
       "      <td>14.390000</td>\n",
       "      <td>99.000000</td>\n",
       "      <td>50.600000</td>\n",
       "      <td>119172.741800</td>\n",
       "      <td>1.986867e+08</td>\n",
       "      <td>19.700000</td>\n",
       "      <td>19.900000</td>\n",
       "      <td>0.948000</td>\n",
       "      <td>20.700000</td>\n",
       "    </tr>\n",
       "  </tbody>\n",
       "</table>\n",
       "</div>"
      ],
      "text/plain": [
       "       Life expectancy  Adult Mortality  infant deaths      Alcohol  \\\n",
       "count      1582.000000      1582.000000    1582.000000  1582.000000   \n",
       "mean         70.612895       156.886220      10.640961     5.002832   \n",
       "std           9.494451       122.146239      26.981874     4.239616   \n",
       "min          36.300000         1.000000       0.000000     0.000000   \n",
       "25%          64.900000        68.000000       0.000000     0.680000   \n",
       "50%          73.000000       134.000000       2.000000     4.435000   \n",
       "75%          77.300000       219.000000      10.000000     8.137500   \n",
       "max          89.000000       699.000000     549.000000    17.870000   \n",
       "\n",
       "       percentage expenditure  Hepatitis B      Measles          BMI  \\\n",
       "count             1582.000000  1582.000000  1582.000000  1582.000000   \n",
       "mean              1071.425874    64.793932    94.034766    41.102149   \n",
       "std               2490.816947    39.841232   194.893622    18.288298   \n",
       "min                  0.000000     0.000000     0.000000     5.000000   \n",
       "25%                 29.030758     9.000000     0.000000    23.300000   \n",
       "50%                160.057734    87.000000     4.000000    47.550000   \n",
       "75%                669.808138    95.000000    70.000000    56.700000   \n",
       "max              19479.911610    99.000000   999.000000    69.700000   \n",
       "\n",
       "       under-five deaths        Polio  Total expenditure   Diphtheria  \\\n",
       "count        1582.000000  1582.000000        1582.000000  1582.000000   \n",
       "mean           15.000000    84.096713           5.903369    84.338180   \n",
       "std            39.475563    22.857425           2.778640    22.723346   \n",
       "min             0.000000     0.000000           0.000000     0.000000   \n",
       "25%             0.000000    83.000000           4.340000    84.000000   \n",
       "50%             2.000000    93.000000           6.150000    93.000000   \n",
       "75%            12.000000    97.000000           7.930000    97.000000   \n",
       "max           879.000000    99.000000          14.390000    99.000000   \n",
       "\n",
       "          HIV/AIDS            GDP    Population  thinness  10-19 years  \\\n",
       "count  1582.000000    1582.000000  1.582000e+03            1582.000000   \n",
       "mean      1.780721    8219.295555  7.031254e+06               4.097092   \n",
       "std       5.582706   15250.303796  1.851775e+07               3.837571   \n",
       "min       0.100000       5.668726  3.400000e+01               0.100000   \n",
       "25%       0.100000     521.855232  1.775390e+05               1.300000   \n",
       "50%       0.100000    2286.031700  1.134978e+06               2.300000   \n",
       "75%       0.700000    6766.560844  5.731820e+06               6.500000   \n",
       "max      50.600000  119172.741800  1.986867e+08              19.700000   \n",
       "\n",
       "       thinness 5-9 years  Income composition of resources    Schooling  \n",
       "count         1582.000000                      1582.000000  1582.000000  \n",
       "mean             4.133881                         0.656290    12.562200  \n",
       "std              3.916162                         0.204719     3.277007  \n",
       "min              0.100000                         0.000000     0.000000  \n",
       "25%              1.300000                         0.533500    10.600000  \n",
       "50%              2.400000                         0.700000    12.800000  \n",
       "75%              6.500000                         0.808750    15.100000  \n",
       "max             19.900000                         0.948000    20.700000  "
      ]
     },
     "execution_count": 12,
     "metadata": {},
     "output_type": "execute_result"
    }
   ],
   "source": [
    "data.describe()"
   ]
  },
  {
   "cell_type": "code",
   "execution_count": 13,
   "metadata": {
    "id": "ITc8Bdk3rWz6"
   },
   "outputs": [],
   "source": [
    "#Después de esto verificamos que todos los valores fueran numéricos\n",
    "for i in data.columns:    \n",
    "    data = data[pd.to_numeric(data[i], errors='coerce').notnull()]"
   ]
  },
  {
   "cell_type": "code",
   "execution_count": 14,
   "metadata": {
    "colab": {
     "base_uri": "https://localhost:8080/"
    },
    "id": "-whfbSMbrWz7",
    "outputId": "07573f17-5a80-41e4-8e66-44e62f140cd2"
   },
   "outputs": [
    {
     "name": "stdout",
     "output_type": "stream",
     "text": [
      "<class 'pandas.core.frame.DataFrame'>\n",
      "Int64Index: 1582 entries, 1 to 2643\n",
      "Data columns (total 19 columns):\n",
      " #   Column                           Non-Null Count  Dtype  \n",
      "---  ------                           --------------  -----  \n",
      " 0   Life expectancy                  1582 non-null   float64\n",
      " 1   Adult Mortality                  1582 non-null   float64\n",
      " 2   infant deaths                    1582 non-null   float64\n",
      " 3   Alcohol                          1582 non-null   float64\n",
      " 4   percentage expenditure           1582 non-null   float64\n",
      " 5   Hepatitis B                      1582 non-null   float64\n",
      " 6   Measles                          1582 non-null   float64\n",
      " 7   BMI                              1582 non-null   float64\n",
      " 8   under-five deaths                1582 non-null   float64\n",
      " 9   Polio                            1582 non-null   float64\n",
      " 10  Total expenditure                1582 non-null   float64\n",
      " 11  Diphtheria                       1582 non-null   float64\n",
      " 12  HIV/AIDS                         1582 non-null   float64\n",
      " 13  GDP                              1582 non-null   float64\n",
      " 14  Population                       1582 non-null   float64\n",
      " 15  thinness  10-19 years            1582 non-null   float64\n",
      " 16  thinness 5-9 years               1582 non-null   float64\n",
      " 17  Income composition of resources  1582 non-null   float64\n",
      " 18  Schooling                        1582 non-null   float64\n",
      "dtypes: float64(19)\n",
      "memory usage: 247.2 KB\n"
     ]
    }
   ],
   "source": [
    "#Todas las columnas se vuelven numéricas\n",
    "for col in data.columns:\n",
    "    data[col] = data[col].astype('float64')\n",
    "#Verificamos el tipo de cada columna\n",
    "data.info()"
   ]
  },
  {
   "cell_type": "code",
   "execution_count": 15,
   "metadata": {
    "colab": {
     "base_uri": "https://localhost:8080/",
     "height": 285
    },
    "id": "bvwKrbcmrWz7",
    "outputId": "e87845af-9175-4208-ef6b-9fa5049924e2"
   },
   "outputs": [
    {
     "data": {
      "text/html": [
       "<div>\n",
       "<style scoped>\n",
       "    .dataframe tbody tr th:only-of-type {\n",
       "        vertical-align: middle;\n",
       "    }\n",
       "\n",
       "    .dataframe tbody tr th {\n",
       "        vertical-align: top;\n",
       "    }\n",
       "\n",
       "    .dataframe thead th {\n",
       "        text-align: right;\n",
       "    }\n",
       "</style>\n",
       "<table border=\"1\" class=\"dataframe\">\n",
       "  <thead>\n",
       "    <tr style=\"text-align: right;\">\n",
       "      <th></th>\n",
       "      <th>Life expectancy</th>\n",
       "      <th>Adult Mortality</th>\n",
       "      <th>infant deaths</th>\n",
       "      <th>Alcohol</th>\n",
       "      <th>percentage expenditure</th>\n",
       "      <th>Hepatitis B</th>\n",
       "      <th>Measles</th>\n",
       "      <th>BMI</th>\n",
       "      <th>under-five deaths</th>\n",
       "      <th>Polio</th>\n",
       "      <th>Total expenditure</th>\n",
       "      <th>Diphtheria</th>\n",
       "      <th>HIV/AIDS</th>\n",
       "      <th>GDP</th>\n",
       "      <th>Population</th>\n",
       "      <th>thinness  10-19 years</th>\n",
       "      <th>thinness 5-9 years</th>\n",
       "      <th>Income composition of resources</th>\n",
       "      <th>Schooling</th>\n",
       "    </tr>\n",
       "  </thead>\n",
       "  <tbody>\n",
       "    <tr>\n",
       "      <th>1</th>\n",
       "      <td>59.9</td>\n",
       "      <td>271.0</td>\n",
       "      <td>64.0</td>\n",
       "      <td>0.01</td>\n",
       "      <td>73.523582</td>\n",
       "      <td>62.0</td>\n",
       "      <td>492.0</td>\n",
       "      <td>18.6</td>\n",
       "      <td>86.0</td>\n",
       "      <td>58.0</td>\n",
       "      <td>8.18</td>\n",
       "      <td>62.0</td>\n",
       "      <td>0.1</td>\n",
       "      <td>612.696514</td>\n",
       "      <td>327582.0</td>\n",
       "      <td>17.5</td>\n",
       "      <td>17.5</td>\n",
       "      <td>0.476</td>\n",
       "      <td>10.0</td>\n",
       "    </tr>\n",
       "    <tr>\n",
       "      <th>2</th>\n",
       "      <td>59.9</td>\n",
       "      <td>268.0</td>\n",
       "      <td>66.0</td>\n",
       "      <td>0.01</td>\n",
       "      <td>73.219243</td>\n",
       "      <td>64.0</td>\n",
       "      <td>430.0</td>\n",
       "      <td>18.1</td>\n",
       "      <td>89.0</td>\n",
       "      <td>62.0</td>\n",
       "      <td>8.13</td>\n",
       "      <td>64.0</td>\n",
       "      <td>0.1</td>\n",
       "      <td>631.744976</td>\n",
       "      <td>31731688.0</td>\n",
       "      <td>17.7</td>\n",
       "      <td>17.7</td>\n",
       "      <td>0.470</td>\n",
       "      <td>9.9</td>\n",
       "    </tr>\n",
       "    <tr>\n",
       "      <th>11</th>\n",
       "      <td>57.0</td>\n",
       "      <td>293.0</td>\n",
       "      <td>87.0</td>\n",
       "      <td>0.02</td>\n",
       "      <td>15.296066</td>\n",
       "      <td>67.0</td>\n",
       "      <td>466.0</td>\n",
       "      <td>13.8</td>\n",
       "      <td>120.0</td>\n",
       "      <td>5.0</td>\n",
       "      <td>8.79</td>\n",
       "      <td>5.0</td>\n",
       "      <td>0.1</td>\n",
       "      <td>219.141353</td>\n",
       "      <td>24118979.0</td>\n",
       "      <td>19.5</td>\n",
       "      <td>19.7</td>\n",
       "      <td>0.381</td>\n",
       "      <td>6.8</td>\n",
       "    </tr>\n",
       "    <tr>\n",
       "      <th>12</th>\n",
       "      <td>56.7</td>\n",
       "      <td>295.0</td>\n",
       "      <td>87.0</td>\n",
       "      <td>0.01</td>\n",
       "      <td>11.089053</td>\n",
       "      <td>65.0</td>\n",
       "      <td>798.0</td>\n",
       "      <td>13.4</td>\n",
       "      <td>122.0</td>\n",
       "      <td>41.0</td>\n",
       "      <td>8.82</td>\n",
       "      <td>41.0</td>\n",
       "      <td>0.1</td>\n",
       "      <td>198.728544</td>\n",
       "      <td>2364851.0</td>\n",
       "      <td>19.7</td>\n",
       "      <td>19.9</td>\n",
       "      <td>0.373</td>\n",
       "      <td>6.5</td>\n",
       "    </tr>\n",
       "    <tr>\n",
       "      <th>16</th>\n",
       "      <td>77.8</td>\n",
       "      <td>74.0</td>\n",
       "      <td>0.0</td>\n",
       "      <td>4.60</td>\n",
       "      <td>364.975229</td>\n",
       "      <td>99.0</td>\n",
       "      <td>0.0</td>\n",
       "      <td>58.0</td>\n",
       "      <td>0.0</td>\n",
       "      <td>99.0</td>\n",
       "      <td>6.00</td>\n",
       "      <td>99.0</td>\n",
       "      <td>0.1</td>\n",
       "      <td>3954.227830</td>\n",
       "      <td>28873.0</td>\n",
       "      <td>1.2</td>\n",
       "      <td>1.3</td>\n",
       "      <td>0.762</td>\n",
       "      <td>14.2</td>\n",
       "    </tr>\n",
       "  </tbody>\n",
       "</table>\n",
       "</div>"
      ],
      "text/plain": [
       "    Life expectancy  Adult Mortality  infant deaths  Alcohol  \\\n",
       "1              59.9            271.0           64.0     0.01   \n",
       "2              59.9            268.0           66.0     0.01   \n",
       "11             57.0            293.0           87.0     0.02   \n",
       "12             56.7            295.0           87.0     0.01   \n",
       "16             77.8             74.0            0.0     4.60   \n",
       "\n",
       "    percentage expenditure  Hepatitis B  Measles   BMI  under-five deaths  \\\n",
       "1                73.523582         62.0    492.0  18.6               86.0   \n",
       "2                73.219243         64.0    430.0  18.1               89.0   \n",
       "11               15.296066         67.0    466.0  13.8              120.0   \n",
       "12               11.089053         65.0    798.0  13.4              122.0   \n",
       "16              364.975229         99.0      0.0  58.0                0.0   \n",
       "\n",
       "    Polio  Total expenditure  Diphtheria  HIV/AIDS          GDP  Population  \\\n",
       "1    58.0               8.18        62.0       0.1   612.696514    327582.0   \n",
       "2    62.0               8.13        64.0       0.1   631.744976  31731688.0   \n",
       "11    5.0               8.79         5.0       0.1   219.141353  24118979.0   \n",
       "12   41.0               8.82        41.0       0.1   198.728544   2364851.0   \n",
       "16   99.0               6.00        99.0       0.1  3954.227830     28873.0   \n",
       "\n",
       "    thinness  10-19 years  thinness 5-9 years  \\\n",
       "1                    17.5                17.5   \n",
       "2                    17.7                17.7   \n",
       "11                   19.5                19.7   \n",
       "12                   19.7                19.9   \n",
       "16                    1.2                 1.3   \n",
       "\n",
       "    Income composition of resources  Schooling  \n",
       "1                             0.476       10.0  \n",
       "2                             0.470        9.9  \n",
       "11                            0.381        6.8  \n",
       "12                            0.373        6.5  \n",
       "16                            0.762       14.2  "
      ]
     },
     "execution_count": 15,
     "metadata": {},
     "output_type": "execute_result"
    }
   ],
   "source": [
    "data.head()"
   ]
  },
  {
   "cell_type": "markdown",
   "metadata": {
    "id": "MXc6qs__rWz7"
   },
   "source": [
    "# 2. Identificación de variables a utilizar\n",
    "### Exploración y descripción de los datos\n",
    "Ya con los datos preparados identificamos la variable objetivo \"Life expectancy\" y al correr un primer intento de modelo quitamos las variables que no representan de forma lineal a la variable (Esto se hace al final de esta sección)"
   ]
  },
  {
   "cell_type": "code",
   "execution_count": 16,
   "metadata": {
    "colab": {
     "base_uri": "https://localhost:8080/"
    },
    "id": "ohGYGX1CrWz8",
    "outputId": "4665dd2b-b68a-4f70-dd4c-0aa231c95ae0"
   },
   "outputs": [
    {
     "data": {
      "text/plain": [
       "73.0    31\n",
       "75.0    21\n",
       "81.0    20\n",
       "78.0    19\n",
       "73.6    17\n",
       "        ..\n",
       "55.2     1\n",
       "65.7     1\n",
       "45.5     1\n",
       "51.9     1\n",
       "52.7     1\n",
       "Name: Life expectancy, Length: 334, dtype: int64"
      ]
     },
     "execution_count": 16,
     "metadata": {},
     "output_type": "execute_result"
    }
   ],
   "source": [
    "#Se cuentan los valores de la variable target\n",
    "data[\"Life expectancy\"].value_counts()"
   ]
  },
  {
   "cell_type": "code",
   "execution_count": 17,
   "metadata": {
    "colab": {
     "base_uri": "https://localhost:8080/",
     "height": 494
    },
    "id": "smkLrLLBrWz8",
    "outputId": "2f607ab9-04f6-45b0-842e-51f6d597d968"
   },
   "outputs": [
    {
     "data": {
      "image/png": "[encoded data removed]",
      "text/plain": [
       "<Figure size 1440x576 with 1 Axes>"
      ]
     },
     "metadata": {
      "needs_background": "light"
     },
     "output_type": "display_data"
    }
   ],
   "source": [
    "#Visualización de todas las variables numéricas\n",
    "fig=plt.figure(figsize=(20,8))\n",
    "ax = sns.boxplot(data=data, orient=\"v\")"
   ]
  },
  {
   "cell_type": "code",
   "execution_count": 18,
   "metadata": {
    "id": "nZuwRw0QrWz8"
   },
   "outputs": [],
   "source": [
    "#Se decidió no realizar este paso ya que deja una interpretación perfecta por parte del modelo de regresión lineal por lo que es sospechoso y se prefiere quitar\n",
    "#Normalizamos los datos ya que estos tienen rangos y escalas muy distintas, así podemos mejorar el modelo\n",
    "#d = preprocessing.normalize(data)\n",
    "#data_norm = pd.DataFrame(d, columns=data.columns)\n",
    "#data=data_norm"
   ]
  },
  {
   "cell_type": "code",
   "execution_count": 19,
   "metadata": {
    "colab": {
     "base_uri": "https://localhost:8080/",
     "height": 1000
    },
    "id": "4lUIBfqErWz9",
    "outputId": "65f96716-f70d-4bd0-813c-88729a29cf5b"
   },
   "outputs": [
    {
     "data": {
      "text/plain": [
       "<AxesSubplot:>"
      ]
     },
     "execution_count": 19,
     "metadata": {},
     "output_type": "execute_result"
    },
    {
     "data": {
      "image/png": "[encoded data removed]",
      "text/plain": [
       "<Figure size 1080x1080 with 2 Axes>"
      ]
     },
     "metadata": {
      "needs_background": "light"
     },
     "output_type": "display_data"
    }
   ],
   "source": [
    "# ¿Hay correlación entre variables?\n",
    "plt.figure(figsize =(15,15))\n",
    "correlacion = data.corr()\n",
    "sns.heatmap(correlacion, cmap = 'GnBu', annot = True)"
   ]
  },
  {
   "cell_type": "markdown",
   "metadata": {
    "id": "JSIkAFF5rWz9"
   },
   "source": [
    "## Este paso no se decide hacer ya que baja el R2 del modelo\n",
    "Después de realizar un primero modelo se obtuvo que las siguientes variables no son importantes para el modelo de regresión ya que el P-value>Significancia (5%):\n",
    "- infant deaths\tP-value:0.937\n",
    "- percentage expenditure\tP-value:0.166\n",
    "- under-five deaths\tP-value:0.237\t\n",
    "- Population\tP-value:0.473"
   ]
  },
  {
   "cell_type": "code",
   "execution_count": 20,
   "metadata": {
    "id": "gQ5IVArkrWz9"
   },
   "outputs": [],
   "source": [
    "# Esas variables se retiran del modelo:\n",
    "#data = data.drop(['infant deaths','percentage expenditure','under-five deaths','Population'], axis=1)"
   ]
  },
  {
   "cell_type": "markdown",
   "metadata": {
    "id": "65E-2EaArWz9"
   },
   "source": [
    "# 3. Construcción del modelo\n",
    "Después de limpiar y discriminar los datos, se procede a crear la regresión Lineal con la variable objetivo ya planteada"
   ]
  },
  {
   "cell_type": "code",
   "execution_count": 21,
   "metadata": {
    "id": "Q6d1vlntrWz-"
   },
   "outputs": [],
   "source": [
    "# Se selecciona la variable objetivo, en este caso \"Life expectancy\".\n",
    "Y = data['Life expectancy']\n",
    "# Del conjunto de datos se elimina la variable \"PermaneceEnEmpresa\"\n",
    "X = data.drop(['Life expectancy'], axis=1)"
   ]
  },
  {
   "cell_type": "code",
   "execution_count": 22,
   "metadata": {
    "id": "MtBosdXLrWz-"
   },
   "outputs": [],
   "source": [
    "# Se realiza la división entrenamiento - test. Se deja 20% de los datos para el test.\n",
    "X_train, X_test, Y_train, Y_test = train_test_split( X, Y, test_size=0.2, random_state=0)"
   ]
  },
  {
   "cell_type": "code",
   "execution_count": 23,
   "metadata": {
    "colab": {
     "base_uri": "https://localhost:8080/"
    },
    "id": "Jvt7ymHurWz-",
    "outputId": "9efb959a-8136-43cc-d4f4-e618ff49501d"
   },
   "outputs": [
    {
     "data": {
      "text/plain": [
       "LinearRegression()"
      ]
     },
     "execution_count": 23,
     "metadata": {},
     "output_type": "execute_result"
    }
   ],
   "source": [
    "# Primero se crea el objeto para construir el modelo\n",
    "modelo_regresion = LinearRegression()\n",
    "\n",
    "# Ajustar el modelo con los datos de entrenamiento\n",
    "modelo_regresion.fit(X_train,Y_train)"
   ]
  },
  {
   "cell_type": "markdown",
   "metadata": {
    "id": "YP5e64EcrWz-"
   },
   "source": [
    "# 4. Evaluación del modelo (cuantitativa y cualitativa)\n",
    "Las métricas de evaluación nos van a permitir determinar qué tan bien se desempeña un modelo; es decir, cómo se ajusta a los datos. En esta sección se utilizan las siguientes métricas\n",
    "\n",
    "1. Mean-Squared-Error(MSE). Error medio cuadrático\n",
    "2. Mean-Absolute-Error(MAE). Error absoluto medio\n",
    "3. R² or Coeficiente de determinación."
   ]
  },
  {
   "cell_type": "code",
   "execution_count": 24,
   "metadata": {
    "colab": {
     "base_uri": "https://localhost:8080/"
    },
    "id": "oM7oi5pWrWz_",
    "outputId": "df4a7039-bc7d-455f-8a8a-9e290a6270e2"
   },
   "outputs": [
    {
     "name": "stdout",
     "output_type": "stream",
     "text": [
      "MSE: 3.78\n",
      "MAE: 2.83\n",
      "R²: 0.84\n"
     ]
    }
   ],
   "source": [
    "# Se obtienen las predicciones del modelo sobre el conjunto de entrenamiento.\n",
    "y_pred_train = modelo_regresion.predict(X_train)\n",
    "# Se obtienen las métricas a partir de la predicción y la base de evaluación (valores reales).\n",
    "print(\"MSE: %.2f\" % mean_squared_error(Y_train, y_pred_train, squared=False))\n",
    "print(\"MAE: %.2f\" % mean_absolute_error(Y_train, y_pred_train))\n",
    "print('R²: %.2f' % r2_score(Y_train, y_pred_train))"
   ]
  },
  {
   "cell_type": "code",
   "execution_count": 25,
   "metadata": {
    "colab": {
     "base_uri": "https://localhost:8080/"
    },
    "id": "WrKnn4HTrWz_",
    "outputId": "a846332b-4510-459a-fd23-154f443592c6"
   },
   "outputs": [
    {
     "name": "stdout",
     "output_type": "stream",
     "text": [
      "MSE: 4.06\n",
      "MAE: 2.93\n",
      "R²: 0.84\n"
     ]
    }
   ],
   "source": [
    "# Se obtienen las predicciones del modelo sobre el conjunto test.\n",
    "y_pred_test = modelo_regresion.predict(X_test)\n",
    "# Se obtienen las métricas a partir de la predicción y la base de evaluación (valores reales).\n",
    "print(\"MSE: %.2f\" % mean_squared_error(Y_test, y_pred_test, squared=False))\n",
    "print(\"MAE: %.2f\" % mean_absolute_error(Y_test, y_pred_test))\n",
    "print('R²: %.2f' % r2_score(Y_test, y_pred_test))"
   ]
  },
  {
   "cell_type": "code",
   "execution_count": 26,
   "metadata": {
    "colab": {
     "base_uri": "https://localhost:8080/"
    },
    "id": "7nbySRaKrWz_",
    "outputId": "b9867f6d-c991-459f-8ef8-9e00612b821a"
   },
   "outputs": [
    {
     "data": {
      "text/plain": [
       "LinearRegression()"
      ]
     },
     "execution_count": 26,
     "metadata": {},
     "output_type": "execute_result"
    }
   ],
   "source": [
    "# Ajustar el modelo con los datos de entrenamiento\n",
    "modelo_regresion.fit(X,Y)"
   ]
  },
  {
   "cell_type": "code",
   "execution_count": 27,
   "metadata": {
    "colab": {
     "base_uri": "https://localhost:8080/",
     "height": 457
    },
    "id": "rs-5_F85rWz_",
    "outputId": "1f4e8ade-5570-4734-eddf-c784b8c6883c"
   },
   "outputs": [
    {
     "data": {
      "text/html": [
       "<div>\n",
       "<style scoped>\n",
       "    .dataframe tbody tr th:only-of-type {\n",
       "        vertical-align: middle;\n",
       "    }\n",
       "\n",
       "    .dataframe tbody tr th {\n",
       "        vertical-align: top;\n",
       "    }\n",
       "\n",
       "    .dataframe thead th {\n",
       "        text-align: right;\n",
       "    }\n",
       "</style>\n",
       "<table border=\"1\" class=\"dataframe\">\n",
       "  <thead>\n",
       "    <tr style=\"text-align: right;\">\n",
       "      <th></th>\n",
       "      <th>Atributo</th>\n",
       "      <th>Importancia</th>\n",
       "    </tr>\n",
       "  </thead>\n",
       "  <tbody>\n",
       "    <tr>\n",
       "      <th>0</th>\n",
       "      <td>Income composition of resources</td>\n",
       "      <td>9.533515e+00</td>\n",
       "    </tr>\n",
       "    <tr>\n",
       "      <th>1</th>\n",
       "      <td>Schooling</td>\n",
       "      <td>7.518419e-01</td>\n",
       "    </tr>\n",
       "    <tr>\n",
       "      <th>2</th>\n",
       "      <td>infant deaths</td>\n",
       "      <td>1.476915e-01</td>\n",
       "    </tr>\n",
       "    <tr>\n",
       "      <th>3</th>\n",
       "      <td>Total expenditure</td>\n",
       "      <td>6.506027e-02</td>\n",
       "    </tr>\n",
       "    <tr>\n",
       "      <th>4</th>\n",
       "      <td>BMI</td>\n",
       "      <td>4.314334e-02</td>\n",
       "    </tr>\n",
       "    <tr>\n",
       "      <th>5</th>\n",
       "      <td>Diphtheria</td>\n",
       "      <td>1.499540e-02</td>\n",
       "    </tr>\n",
       "    <tr>\n",
       "      <th>6</th>\n",
       "      <td>Polio</td>\n",
       "      <td>7.565964e-03</td>\n",
       "    </tr>\n",
       "    <tr>\n",
       "      <th>7</th>\n",
       "      <td>Hepatitis B</td>\n",
       "      <td>2.229655e-04</td>\n",
       "    </tr>\n",
       "    <tr>\n",
       "      <th>8</th>\n",
       "      <td>percentage expenditure</td>\n",
       "      <td>1.211376e-04</td>\n",
       "    </tr>\n",
       "    <tr>\n",
       "      <th>9</th>\n",
       "      <td>GDP</td>\n",
       "      <td>3.657851e-05</td>\n",
       "    </tr>\n",
       "    <tr>\n",
       "      <th>10</th>\n",
       "      <td>Population</td>\n",
       "      <td>-9.980247e-10</td>\n",
       "    </tr>\n",
       "    <tr>\n",
       "      <th>11</th>\n",
       "      <td>Measles</td>\n",
       "      <td>-1.336854e-03</td>\n",
       "    </tr>\n",
       "    <tr>\n",
       "      <th>12</th>\n",
       "      <td>Adult Mortality</td>\n",
       "      <td>-1.900979e-02</td>\n",
       "    </tr>\n",
       "    <tr>\n",
       "      <th>13</th>\n",
       "      <td>thinness 5-9 years</td>\n",
       "      <td>-1.948099e-02</td>\n",
       "    </tr>\n",
       "    <tr>\n",
       "      <th>14</th>\n",
       "      <td>thinness  10-19 years</td>\n",
       "      <td>-8.796920e-02</td>\n",
       "    </tr>\n",
       "    <tr>\n",
       "      <th>15</th>\n",
       "      <td>Alcohol</td>\n",
       "      <td>-8.865988e-02</td>\n",
       "    </tr>\n",
       "    <tr>\n",
       "      <th>16</th>\n",
       "      <td>under-five deaths</td>\n",
       "      <td>-1.166393e-01</td>\n",
       "    </tr>\n",
       "    <tr>\n",
       "      <th>17</th>\n",
       "      <td>HIV/AIDS</td>\n",
       "      <td>-4.296724e-01</td>\n",
       "    </tr>\n",
       "  </tbody>\n",
       "</table>\n",
       "</div>"
      ],
      "text/plain": [
       "                           Atributo   Importancia\n",
       "0   Income composition of resources  9.533515e+00\n",
       "1                         Schooling  7.518419e-01\n",
       "2                     infant deaths  1.476915e-01\n",
       "3                 Total expenditure  6.506027e-02\n",
       "4                               BMI  4.314334e-02\n",
       "5                        Diphtheria  1.499540e-02\n",
       "6                             Polio  7.565964e-03\n",
       "7                       Hepatitis B  2.229655e-04\n",
       "8            percentage expenditure  1.211376e-04\n",
       "9                               GDP  3.657851e-05\n",
       "10                       Population -9.980247e-10\n",
       "11                          Measles -1.336854e-03\n",
       "12                  Adult Mortality -1.900979e-02\n",
       "13               thinness 5-9 years -1.948099e-02\n",
       "14            thinness  10-19 years -8.796920e-02\n",
       "15                          Alcohol -8.865988e-02\n",
       "16                under-five deaths -1.166393e-01\n",
       "17                         HIV/AIDS -4.296724e-01"
      ]
     },
     "execution_count": 27,
     "metadata": {},
     "output_type": "execute_result"
    }
   ],
   "source": [
    "#Averiguamos la importancia de las variables dentro del modelo\n",
    "importancia = modelo_regresion.coef_\n",
    "importancia_atributo = pd.DataFrame(data={\"Atributo\": X_train.columns,\"Importancia\": importancia})\n",
    "importancia_atributo = importancia_atributo.sort_values(by='Importancia', ascending=False).reset_index(drop=True)\n",
    "importancia_atributo"
   ]
  },
  {
   "cell_type": "markdown",
   "metadata": {
    "id": "h0GL466orWz_"
   },
   "source": [
    "### 5. Interpretación del modelo\n",
    "Otro aspecto que debemos tener en cuenta es la significancia estadística de los coeficientes. Para determinarla, se aplica la prueba t de Student o t-test, con las siguientes hipótesis sobre los coeficientes:\n",
    "\n",
    "H0: wi = 0, es decir, no hay una relación lineal entre la variable dependiente y la independiente.\n",
    "\n",
    "Ha: wi ≠ 0, es decir, sí existe una relación lineal entre ambas variables.\n",
    "\n",
    "El p-valor (en inglés p-value) del coeficiente verifica entonces la hipótesis nula de la siguiente forma:\n",
    "Si el p-valor es menor o igual que el nivel de significancia seleccionado, entonces se puede afirmar que los datos suministran suficiente evidencia para rechazar la hipótesis nula. Es decir, cambios en la variable independiente estarán asociados con cambios en la variable dependiente y esta relación es estadísticamente significativa, por lo que la variable independiente será importante para el modelo de regresión.\n",
    "Si el p-valor es mayor que el nivel de significancia, entonces no hay suficiente evidencia en los datos para rechazar la hipótesis nula y concluir que w1 es significativamente diferente de 0.\n",
    "\n",
    "Por otra parte, el valor de un coeficiente determina cuánto aumenta o se reduce el valor promedio de la variable dependiente cuando la independiente cambia por una unidad. El signo del coeficiente indica si la relación es positiva o negativa.\n",
    "\n",
    "\n",
    "Podemos sacar un reporte que nos va a permitir analizar estadísticos del modelo."
   ]
  },
  {
   "cell_type": "code",
   "execution_count": 28,
   "metadata": {
    "colab": {
     "base_uri": "https://localhost:8080/",
     "height": 721
    },
    "id": "ms2r9RTarW0A",
    "outputId": "3c999b12-9752-42c3-b5bc-18d1cbb3693e"
   },
   "outputs": [
    {
     "data": {
      "text/html": [
       "<table class=\"simpletable\">\n",
       "<caption>OLS Regression Results</caption>\n",
       "<tr>\n",
       "  <th>Dep. Variable:</th>     <td>Life expectancy</td> <th>  R-squared (uncentered):</th>      <td>   0.987</td> \n",
       "</tr>\n",
       "<tr>\n",
       "  <th>Model:</th>                   <td>OLS</td>       <th>  Adj. R-squared (uncentered):</th> <td>   0.987</td> \n",
       "</tr>\n",
       "<tr>\n",
       "  <th>Method:</th>             <td>Least Squares</td>  <th>  F-statistic:       </th>          <td>   6683.</td> \n",
       "</tr>\n",
       "<tr>\n",
       "  <th>Date:</th>             <td>Sun, 01 May 2022</td> <th>  Prob (F-statistic):</th>           <td>  0.00</td>  \n",
       "</tr>\n",
       "<tr>\n",
       "  <th>Time:</th>                 <td>19:35:41</td>     <th>  Log-Likelihood:    </th>          <td> -5548.5</td> \n",
       "</tr>\n",
       "<tr>\n",
       "  <th>No. Observations:</th>      <td>  1582</td>      <th>  AIC:               </th>          <td>1.113e+04</td>\n",
       "</tr>\n",
       "<tr>\n",
       "  <th>Df Residuals:</th>          <td>  1564</td>      <th>  BIC:               </th>          <td>1.123e+04</td>\n",
       "</tr>\n",
       "<tr>\n",
       "  <th>Df Model:</th>              <td>    18</td>      <th>                     </th>              <td> </td>    \n",
       "</tr>\n",
       "<tr>\n",
       "  <th>Covariance Type:</th>      <td>nonrobust</td>    <th>                     </th>              <td> </td>    \n",
       "</tr>\n",
       "</table>\n",
       "<table class=\"simpletable\">\n",
       "<tr>\n",
       "                 <td></td>                    <th>coef</th>     <th>std err</th>      <th>t</th>      <th>P>|t|</th>  <th>[0.025</th>    <th>0.975]</th>  \n",
       "</tr>\n",
       "<tr>\n",
       "  <th>Adult Mortality</th>                 <td>    0.0128</td> <td>    0.002</td> <td>    6.155</td> <td> 0.000</td> <td>    0.009</td> <td>    0.017</td>\n",
       "</tr>\n",
       "<tr>\n",
       "  <th>infant deaths</th>                   <td>   -0.0753</td> <td>    0.057</td> <td>   -1.317</td> <td> 0.188</td> <td>   -0.187</td> <td>    0.037</td>\n",
       "</tr>\n",
       "<tr>\n",
       "  <th>Alcohol</th>                         <td>   -0.4749</td> <td>    0.064</td> <td>   -7.410</td> <td> 0.000</td> <td>   -0.601</td> <td>   -0.349</td>\n",
       "</tr>\n",
       "<tr>\n",
       "  <th>percentage expenditure</th>          <td>    0.0003</td> <td>    0.000</td> <td>    1.255</td> <td> 0.209</td> <td>   -0.000</td> <td>    0.001</td>\n",
       "</tr>\n",
       "<tr>\n",
       "  <th>Hepatitis B</th>                     <td>   -0.0009</td> <td>    0.006</td> <td>   -0.151</td> <td> 0.880</td> <td>   -0.013</td> <td>    0.011</td>\n",
       "</tr>\n",
       "<tr>\n",
       "  <th>Measles</th>                         <td>    0.0020</td> <td>    0.001</td> <td>    1.791</td> <td> 0.073</td> <td>   -0.000</td> <td>    0.004</td>\n",
       "</tr>\n",
       "<tr>\n",
       "  <th>BMI</th>                             <td>    0.1827</td> <td>    0.015</td> <td>   12.527</td> <td> 0.000</td> <td>    0.154</td> <td>    0.211</td>\n",
       "</tr>\n",
       "<tr>\n",
       "  <th>under-five deaths</th>               <td>    0.0713</td> <td>    0.039</td> <td>    1.832</td> <td> 0.067</td> <td>   -0.005</td> <td>    0.148</td>\n",
       "</tr>\n",
       "<tr>\n",
       "  <th>Polio</th>                           <td>    0.0793</td> <td>    0.012</td> <td>    6.397</td> <td> 0.000</td> <td>    0.055</td> <td>    0.104</td>\n",
       "</tr>\n",
       "<tr>\n",
       "  <th>Total expenditure</th>               <td>    0.9307</td> <td>    0.078</td> <td>   11.880</td> <td> 0.000</td> <td>    0.777</td> <td>    1.084</td>\n",
       "</tr>\n",
       "<tr>\n",
       "  <th>Diphtheria</th>                      <td>    0.0688</td> <td>    0.014</td> <td>    5.080</td> <td> 0.000</td> <td>    0.042</td> <td>    0.095</td>\n",
       "</tr>\n",
       "<tr>\n",
       "  <th>HIV/AIDS</th>                        <td>   -0.5963</td> <td>    0.044</td> <td>  -13.659</td> <td> 0.000</td> <td>   -0.682</td> <td>   -0.511</td>\n",
       "</tr>\n",
       "<tr>\n",
       "  <th>GDP</th>                             <td>-7.671e-05</td> <td> 4.33e-05</td> <td>   -1.773</td> <td> 0.076</td> <td>   -0.000</td> <td> 8.15e-06</td>\n",
       "</tr>\n",
       "<tr>\n",
       "  <th>Population</th>                      <td>-1.759e-08</td> <td>  1.2e-08</td> <td>   -1.470</td> <td> 0.142</td> <td>-4.11e-08</td> <td> 5.88e-09</td>\n",
       "</tr>\n",
       "<tr>\n",
       "  <th>thinness  10-19 years</th>           <td>    0.4672</td> <td>    0.235</td> <td>    1.991</td> <td> 0.047</td> <td>    0.007</td> <td>    0.927</td>\n",
       "</tr>\n",
       "<tr>\n",
       "  <th>thinness 5-9 years</th>              <td>    0.5302</td> <td>    0.232</td> <td>    2.289</td> <td> 0.022</td> <td>    0.076</td> <td>    0.985</td>\n",
       "</tr>\n",
       "<tr>\n",
       "  <th>Income composition of resources</th> <td>   18.6504</td> <td>    1.958</td> <td>    9.525</td> <td> 0.000</td> <td>   14.810</td> <td>   22.491</td>\n",
       "</tr>\n",
       "<tr>\n",
       "  <th>Schooling</th>                       <td>    2.3328</td> <td>    0.118</td> <td>   19.827</td> <td> 0.000</td> <td>    2.102</td> <td>    2.564</td>\n",
       "</tr>\n",
       "</table>\n",
       "<table class=\"simpletable\">\n",
       "<tr>\n",
       "  <th>Omnibus:</th>       <td>374.238</td> <th>  Durbin-Watson:     </th> <td>   0.695</td>\n",
       "</tr>\n",
       "<tr>\n",
       "  <th>Prob(Omnibus):</th> <td> 0.000</td>  <th>  Jarque-Bera (JB):  </th> <td>1625.282</td>\n",
       "</tr>\n",
       "<tr>\n",
       "  <th>Skew:</th>          <td> 1.064</td>  <th>  Prob(JB):          </th> <td>    0.00</td>\n",
       "</tr>\n",
       "<tr>\n",
       "  <th>Kurtosis:</th>      <td> 7.486</td>  <th>  Cond. No.          </th> <td>1.90e+08</td>\n",
       "</tr>\n",
       "</table><br/><br/>Notes:<br/>[1] R² is computed without centering (uncentered) since the model does not contain a constant.<br/>[2] Standard Errors assume that the covariance matrix of the errors is correctly specified.<br/>[3] The condition number is large, 1.9e+08. This might indicate that there are<br/>strong multicollinearity or other numerical problems."
      ],
      "text/plain": [
       "<class 'statsmodels.iolib.summary.Summary'>\n",
       "\"\"\"\n",
       "                                 OLS Regression Results                                \n",
       "=======================================================================================\n",
       "Dep. Variable:        Life expectancy   R-squared (uncentered):                   0.987\n",
       "Model:                            OLS   Adj. R-squared (uncentered):              0.987\n",
       "Method:                 Least Squares   F-statistic:                              6683.\n",
       "Date:                Sun, 01 May 2022   Prob (F-statistic):                        0.00\n",
       "Time:                        19:35:41   Log-Likelihood:                         -5548.5\n",
       "No. Observations:                1582   AIC:                                  1.113e+04\n",
       "Df Residuals:                    1564   BIC:                                  1.123e+04\n",
       "Df Model:                          18                                                  \n",
       "Covariance Type:            nonrobust                                                  \n",
       "===================================================================================================\n",
       "                                      coef    std err          t      P>|t|      [0.025      0.975]\n",
       "---------------------------------------------------------------------------------------------------\n",
       "Adult Mortality                     0.0128      0.002      6.155      0.000       0.009       0.017\n",
       "infant deaths                      -0.0753      0.057     -1.317      0.188      -0.187       0.037\n",
       "Alcohol                            -0.4749      0.064     -7.410      0.000      -0.601      -0.349\n",
       "percentage expenditure              0.0003      0.000      1.255      0.209      -0.000       0.001\n",
       "Hepatitis B                        -0.0009      0.006     -0.151      0.880      -0.013       0.011\n",
       "Measles                             0.0020      0.001      1.791      0.073      -0.000       0.004\n",
       "BMI                                 0.1827      0.015     12.527      0.000       0.154       0.211\n",
       "under-five deaths                   0.0713      0.039      1.832      0.067      -0.005       0.148\n",
       "Polio                               0.0793      0.012      6.397      0.000       0.055       0.104\n",
       "Total expenditure                   0.9307      0.078     11.880      0.000       0.777       1.084\n",
       "Diphtheria                          0.0688      0.014      5.080      0.000       0.042       0.095\n",
       "HIV/AIDS                           -0.5963      0.044    -13.659      0.000      -0.682      -0.511\n",
       "GDP                             -7.671e-05   4.33e-05     -1.773      0.076      -0.000    8.15e-06\n",
       "Population                      -1.759e-08    1.2e-08     -1.470      0.142   -4.11e-08    5.88e-09\n",
       "thinness  10-19 years               0.4672      0.235      1.991      0.047       0.007       0.927\n",
       "thinness 5-9 years                  0.5302      0.232      2.289      0.022       0.076       0.985\n",
       "Income composition of resources    18.6504      1.958      9.525      0.000      14.810      22.491\n",
       "Schooling                           2.3328      0.118     19.827      0.000       2.102       2.564\n",
       "==============================================================================\n",
       "Omnibus:                      374.238   Durbin-Watson:                   0.695\n",
       "Prob(Omnibus):                  0.000   Jarque-Bera (JB):             1625.282\n",
       "Skew:                           1.064   Prob(JB):                         0.00\n",
       "Kurtosis:                       7.486   Cond. No.                     1.90e+08\n",
       "==============================================================================\n",
       "\n",
       "Notes:\n",
       "[1] R² is computed without centering (uncentered) since the model does not contain a constant.\n",
       "[2] Standard Errors assume that the covariance matrix of the errors is correctly specified.\n",
       "[3] The condition number is large, 1.9e+08. This might indicate that there are\n",
       "strong multicollinearity or other numerical problems.\n",
       "\"\"\""
      ]
     },
     "execution_count": 28,
     "metadata": {},
     "output_type": "execute_result"
    }
   ],
   "source": [
    "# Ajustar el modelo para ver el reporte\n",
    "model = sm.OLS(Y, X).fit()\n",
    "# Mostrar las estadísticas del modelo\n",
    "model.summary()"
   ]
  },
  {
   "cell_type": "markdown",
   "metadata": {
    "id": "1wKZWIDZVk6z"
   },
   "source": [
    "# Conclusiones\n",
    "Luego de ejecutar el modelo, se pueden realizar diferentes pruebas de hipotesis sobre el mismo. Para este caso, se decidieron ejecutar pruebas T para analizar cada una de las variables de manera independiente con respecto a nuestra variable objetivo. Teniendo el p-Value de cada una de las variables y el resultado de nuestra prueba T, podemos definir que las variables que tienen más influencia en la expectativa de vida de una persona son el consumo de Alcohol el indice de BMI, Polio,Diphtheria y HIV/AIDS."
   ]
  },
  {
   "cell_type": "markdown",
   "metadata": {
    "id": "XQqOcoCLrW0A"
   },
   "source": [
    "# 6. Almacenamiento  del modelo y pipeline del lab 4.\n",
    "Puedes guardar tu modelo para que lo puedas recuperar cuando lo desees o llevarlo a producción. Para esto vamos a realizar un pipeline que normalice los datos y guarde el modelo para su posterior uso:"
   ]
  },
  {
   "cell_type": "code",
   "execution_count": 37,
   "metadata": {},
   "outputs": [
    {
     "data": {
      "text/plain": [
       "['assets/modelo.pkl']"
      ]
     },
     "execution_count": 37,
     "metadata": {},
     "output_type": "execute_result"
    }
   ],
   "source": [
    "from sklearn.pipeline import make_pipeline\n",
    "from sklearn.preprocessing import StandardScaler\n",
    "from sklearn.pipeline import Pipeline \n",
    "from sklearn.impute import SimpleImputer\n",
    "from sklearn.compose import ColumnTransformer\n",
    "import joblib\n",
    "\n",
    "#Como el modelo ya lo habíamos ajustado a los datos del laboratorio 3 entonces no es necesario hacerlo de nuevo, lo que se realizará nuevo \n",
    "#va a ser la estandarización de los datos para mejorar la precisión del modelo\n",
    "\n",
    "#En este paso estandarizamos los datos y también reemplazamos los valores nulos por la media de su respectiva columna\n",
    "pipe= Pipeline(steps=[('standardscaler', StandardScaler()),\n",
    "                ('impute', SimpleImputer(strategy='mean'))])\n",
    "#Verificamos que todas las columnas queden como numéricas\n",
    "full_processor = ColumnTransformer(transformers=[\n",
    "    ('number', pipe, X_train.columns)\n",
    "])\n",
    "full_processor.fit_transform(X_train)\n",
    "#Se realiza el pipeline definitivo para exportar al proyecto\n",
    "pipelineFinal = Pipeline(steps=[\n",
    "    ('preprocess', full_processor),\n",
    "    ('model', modelo_regresion)\n",
    "])\n",
    "pipelineFinal.fit(X_train,Y_train)\n",
    "# Guardar nuestra canalización en un archivo pickle binario \n",
    "joblib.dump(pipelineFinal, 'assets/modelo.pkl')"
   ]
  },
  {
   "cell_type": "code",
   "execution_count": null,
   "metadata": {
    "colab": {
     "base_uri": "https://localhost:8080/"
    },
    "id": "v7pDTOhorW0A",
    "outputId": "30f1a2ed-88d9-4ac0-b841-0a75cfcede64"
   },
   "outputs": [
    {
     "data": {
      "text/plain": [
       "['assets/modelo.joblib']"
      ]
     },
     "metadata": {},
     "output_type": "display_data"
    }
   ],
   "source": [
    "# Una forma de guardar el modelo es a través de la funcionalidad joblib.\n",
    "#import joblib\n",
    "# Ahora guardamos el modelo con el nombre que selecciones.\n",
    "#joblib.dump(modelo_regresion, 'assets/modelo.joblib')\n",
    "# Si lo quieres recuperar más tarde puedes utilizar la siguiente instrucción:\n",
    "# modelo = load('ModeloRegresion.joblib') "
   ]
  }
 ],
 "metadata": {
  "interpreter": {
   "hash": "9387e9e37a0af8fff0fcbade4737076ebc87d0c8fec44545ee3d2fd05cdc73df"
  },
  "kernelspec": {
   "display_name": "Python 3.8.5 ('base')",
   "language": "python",
   "name": "python3"
  },
  "language_info": {
   "codemirror_mode": {
    "name": "ipython",
    "version": 3
   },
   "file_extension": ".py",
   "mimetype": "text/x-python",
   "name": "python",
   "nbconvert_exporter": "python",
   "pygments_lexer": "ipython3",
   "version": "3.8.5"
  },
  "orig_nbformat": 4
 },
 "nbformat": 4,
 "nbformat_minor": 2
}
