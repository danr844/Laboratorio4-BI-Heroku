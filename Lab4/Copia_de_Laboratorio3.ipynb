{
  "cells": [
    {
      "cell_type": "markdown",
      "metadata": {
        "id": "xXCbNU8XrWzu"
      },
      "source": [
        "# Laboratorio 3 - BI"
      ]
    },
    {
      "cell_type": "markdown",
      "metadata": {
        "id": "ZZVR5jQ_rWzy"
      },
      "source": [
        "Se plantea resolver el problema siguiendo los siguientes pasos a lo largo de este Notebook:\n",
        "\n",
        "* Entendimiento de los datos y Preparación de datos.\n",
        "* Identificación de variables a utilizar\n",
        "* Modelamiento.\n",
        "* Evaluación cuantitativa\n",
        "* Evaluación cualitativa\n",
        "* Exportar el modelo\n",
        "\n",
        "\n",
        "En el perfilamiento de datos, se desea saber cuántos datos se tienen por filas y columnas, los tipos de datos, la integridad de los datos, su distribución, etc.\n",
        "\n",
        "En orden de este proceso, inicialmente se procede a importar las librerías a usar durante al análisis y posteriormente el perfilamiento de los datos.\n",
        "\n",
        "Se escoge un modelo de regresión lineal, ya que en los datos se nos ofrece una variable Objetivo \"life expectancy\". numérica, la cuál se desea predecir, por lo tanto, un modelo como el nombrado anteriormente es ideal para esta propuesta."
      ]
    },
    {
      "cell_type": "markdown",
      "source": [
        "## Entendimiento del negocio"
      ],
      "metadata": {
        "id": "Ipp-yeD3TK5G"
      }
    },
    {
      "cell_type": "markdown",
      "source": [
        "La Clínica de los Alpes desea conocer cuales son los principales factores de muerte que disminuyen la expectativa de vida de los ciudadanos de su país para realizar campañas de concientización con el fin de mejorar la calidad de vida de los ciudadanos.\n",
        "La Clínica cuenta con un conjunto de datos sobre las expectativas de vida a lo largo de los años en los Alpes y países cercanos, junto con algunos indicadores que miden la salud de una persona, como lo puede ser el índice de masa corporal, la incidencia de varias enfermedades y algunos factores socioculturales como el consumo de alcohol o tabaco.\n"
      ],
      "metadata": {
        "id": "E9xKl_kdTNJt"
      }
    },
    {
      "cell_type": "markdown",
      "metadata": {
        "id": "LxwXpu9OrWzz"
      },
      "source": [
        "### 0. Importación de librerías \n",
        "\n",
        "En las siguientes líneas de código se importan las librerías y herramientas necesarias para desarrollar el caso de uso."
      ]
    },
    {
      "cell_type": "code",
      "execution_count": null,
      "metadata": {
        "id": "wLxo0_2YrWzz"
      },
      "outputs": [],
      "source": [
        "# Librería para comando de sistema\n",
        "import os\n",
        "# Librerías para manejo de datos\n",
        "import pandas as pd\n",
        "import numpy as np\n",
        "import matplotlib.pyplot as plt\n",
        "import seaborn as sns\n",
        "# Librerías de aprendizaje automático.\n",
        "# Para realizar la separación del conjunto de aprendizaje en entrenamiento y test.\n",
        "from sklearn.model_selection import train_test_split\n",
        "# Para construir un modelo con el algoritmo de regresión lineal\n",
        "from sklearn.linear_model import LinearRegression\n",
        "# Para determinar el rendimiento del modelo con las métricas MSE, MAE y R2\n",
        "from sklearn.metrics import mean_squared_error, mean_absolute_error, r2_score\n",
        "# Para sacar un reporte estadístico que podemos usar para determinar las importancia de las variables explicativas.\n",
        "import statsmodels.api as sm \n",
        "from sklearn import preprocessing\n",
        "from sklearn.preprocessing import StandardScaler"
      ]
    },
    {
      "cell_type": "markdown",
      "metadata": {
        "id": "5ghZSLdmrWz1"
      },
      "source": [
        "# 1. Entendimiento de los datos y preparación de los datos\n",
        "\n",
        "Se nos entregó un archivo con varias columnas numéricas, rangos muy distintos y una columna sin nombre, a partir de estos datos se nos solicitó predecir la expectativa de vida (Life expectancy) y a continuación se mostrará el análisis de calidad de los datos: "
      ]
    },
    {
      "cell_type": "markdown",
      "metadata": {
        "id": "msHxODb_rWz1"
      },
      "source": [
        "### Carga de los datos\n",
        "A través de la librería **pandas** podemos realizar la carga de datos desde diferentes fuentes de información, en este caso se realizará la carga de un archivo plano csv (archivo separado por comas)."
      ]
    },
    {
      "cell_type": "code",
      "execution_count": null,
      "metadata": {
        "id": "kU0KNk4krWz2"
      },
      "outputs": [],
      "source": [
        "# Se cargan los datos. \n",
        "data=pd.read_csv('202210_Laboratorio3_data_DatosTrain.csv', sep=',', encoding = 'utf-8')"
      ]
    },
    {
      "cell_type": "code",
      "execution_count": null,
      "metadata": {
        "colab": {
          "base_uri": "https://localhost:8080/"
        },
        "id": "jNNHatYWrWz2",
        "outputId": "3bcc9dc8-3b35-48b8-e7bc-e222b08772fd"
      },
      "outputs": [
        {
          "output_type": "execute_result",
          "data": {
            "text/plain": [
              "(2644, 20)"
            ]
          },
          "metadata": {},
          "execution_count": 157
        }
      ],
      "source": [
        "# Cantidad de datos y número de variables\n",
        "data.shape"
      ]
    },
    {
      "cell_type": "code",
      "execution_count": null,
      "metadata": {
        "colab": {
          "base_uri": "https://localhost:8080/"
        },
        "id": "Ct1W4VIZrWz3",
        "outputId": "2cbf8b1b-a94a-46b9-8562-fa2efdea022b"
      },
      "outputs": [
        {
          "output_type": "execute_result",
          "data": {
            "text/plain": [
              "Unnamed: 0                         0\n",
              "Life expectancy                    0\n",
              "Adult Mortality                    0\n",
              "infant deaths                      0\n",
              "Alcohol                            0\n",
              "percentage expenditure             0\n",
              "Hepatitis B                        0\n",
              "Measles                            0\n",
              "BMI                                0\n",
              "under-five deaths                  0\n",
              "Polio                              0\n",
              "Total expenditure                  0\n",
              "Diphtheria                         0\n",
              "HIV/AIDS                           0\n",
              "GDP                                0\n",
              "Population                         0\n",
              "thinness  10-19 years              0\n",
              "thinness 5-9 years                 0\n",
              "Income composition of resources    0\n",
              "Schooling                          0\n",
              "dtype: int64"
            ]
          },
          "metadata": {},
          "execution_count": 158
        }
      ],
      "source": [
        "#Muestra las casillas con nulos de cada columna\n",
        "data.isnull().sum()"
      ]
    },
    {
      "cell_type": "code",
      "execution_count": null,
      "metadata": {
        "colab": {
          "base_uri": "https://localhost:8080/",
          "height": 416
        },
        "id": "2iy2Zyv3rWz4",
        "outputId": "03a00637-12a6-44e0-e1b6-9b412bf1dea5"
      },
      "outputs": [
        {
          "output_type": "execute_result",
          "data": {
            "text/plain": [
              "       Life expectancy  Adult Mortality  infant deaths      Alcohol  \\\n",
              "count      2644.000000      2644.000000     2644.00000  2644.000000   \n",
              "mean         69.068797       162.465204       31.14410     4.328684   \n",
              "std          10.351757       121.186953      123.93232     4.146851   \n",
              "min           0.000000         0.000000        0.00000     0.000000   \n",
              "25%          62.975000        73.000000        0.00000     0.407500   \n",
              "50%          72.100000       143.000000        2.00000     3.225000   \n",
              "75%          75.800000       226.250000       18.00000     7.495000   \n",
              "max          89.000000       699.000000     1800.00000    17.870000   \n",
              "\n",
              "       percentage expenditure  Hepatitis B        Measles          BMI  \\\n",
              "count             2644.000000  2644.000000    2644.000000  2644.000000   \n",
              "mean               792.465552    65.532905    2432.922844    37.662746   \n",
              "std               2077.768681    39.221347   11868.652439    20.339750   \n",
              "min                  0.000000     0.000000       0.000000     0.000000   \n",
              "25%                  7.044565    14.750000       0.000000    18.900000   \n",
              "50%                 70.648787    87.000000      14.000000    43.000000   \n",
              "75%                485.959559    96.000000     329.750000    55.900000   \n",
              "max              19479.911610    99.000000  212183.000000    87.300000   \n",
              "\n",
              "       under-five deaths        Polio  Total expenditure   Diphtheria  \\\n",
              "count        2644.000000  2644.000000        2644.000000  2644.000000   \n",
              "mean           43.160363    81.967095           5.431078    81.926626   \n",
              "std           168.485929    24.521529           2.821982    24.502772   \n",
              "min             0.000000     0.000000           0.000000     0.000000   \n",
              "25%             0.000000    78.000000           3.677500    78.000000   \n",
              "50%             3.000000    93.000000           5.550000    93.000000   \n",
              "75%            23.000000    97.000000           7.372500    97.000000   \n",
              "max          2500.000000    99.000000          17.240000    99.000000   \n",
              "\n",
              "          HIV/AIDS            GDP    Population  thinness  10-19 years  \\\n",
              "count  2644.000000    2644.000000  2.644000e+03            2644.000000   \n",
              "mean      1.617095    6726.080237  1.052152e+07               4.743911   \n",
              "std       4.822150   13873.881462  5.680977e+07               4.467839   \n",
              "min       0.100000       0.000000  0.000000e+00               0.000000   \n",
              "25%       0.100000     238.626882  1.285900e+04               1.500000   \n",
              "50%       0.100000    1254.652810  6.227965e+05               3.200000   \n",
              "75%       0.800000    5277.746332  5.194999e+06               7.200000   \n",
              "max      50.600000  119172.741800  1.293859e+09              27.700000   \n",
              "\n",
              "       thinness 5-9 years  Income composition of resources    Schooling  \n",
              "count         2644.000000                      2644.000000  2644.000000  \n",
              "mean             4.778215                         0.602879    11.482678  \n",
              "std              4.553418                         0.244040     4.170684  \n",
              "min              0.000000                         0.000000     0.000000  \n",
              "25%              1.500000                         0.473000     9.500000  \n",
              "50%              3.200000                         0.668000    12.300000  \n",
              "75%              7.300000                         0.781000    14.200000  \n",
              "max             28.600000                         0.948000    20.700000  "
            ],
            "text/html": [
              "\n",
              "  <div id=\"df-e22cbecd-d312-4408-9398-a23f13b7c34d\">\n",
              "    <div class=\"colab-df-container\">\n",
              "      <div>\n",
              "<style scoped>\n",
              "    .dataframe tbody tr th:only-of-type {\n",
              "        vertical-align: middle;\n",
              "    }\n",
              "\n",
              "    .dataframe tbody tr th {\n",
              "        vertical-align: top;\n",
              "    }\n",
              "\n",
              "    .dataframe thead th {\n",
              "        text-align: right;\n",
              "    }\n",
              "</style>\n",
              "<table border=\"1\" class=\"dataframe\">\n",
              "  <thead>\n",
              "    <tr style=\"text-align: right;\">\n",
              "      <th></th>\n",
              "      <th>Life expectancy</th>\n",
              "      <th>Adult Mortality</th>\n",
              "      <th>infant deaths</th>\n",
              "      <th>Alcohol</th>\n",
              "      <th>percentage expenditure</th>\n",
              "      <th>Hepatitis B</th>\n",
              "      <th>Measles</th>\n",
              "      <th>BMI</th>\n",
              "      <th>under-five deaths</th>\n",
              "      <th>Polio</th>\n",
              "      <th>Total expenditure</th>\n",
              "      <th>Diphtheria</th>\n",
              "      <th>HIV/AIDS</th>\n",
              "      <th>GDP</th>\n",
              "      <th>Population</th>\n",
              "      <th>thinness  10-19 years</th>\n",
              "      <th>thinness 5-9 years</th>\n",
              "      <th>Income composition of resources</th>\n",
              "      <th>Schooling</th>\n",
              "    </tr>\n",
              "  </thead>\n",
              "  <tbody>\n",
              "    <tr>\n",
              "      <th>count</th>\n",
              "      <td>2644.000000</td>\n",
              "      <td>2644.000000</td>\n",
              "      <td>2644.00000</td>\n",
              "      <td>2644.000000</td>\n",
              "      <td>2644.000000</td>\n",
              "      <td>2644.000000</td>\n",
              "      <td>2644.000000</td>\n",
              "      <td>2644.000000</td>\n",
              "      <td>2644.000000</td>\n",
              "      <td>2644.000000</td>\n",
              "      <td>2644.000000</td>\n",
              "      <td>2644.000000</td>\n",
              "      <td>2644.000000</td>\n",
              "      <td>2644.000000</td>\n",
              "      <td>2.644000e+03</td>\n",
              "      <td>2644.000000</td>\n",
              "      <td>2644.000000</td>\n",
              "      <td>2644.000000</td>\n",
              "      <td>2644.000000</td>\n",
              "    </tr>\n",
              "    <tr>\n",
              "      <th>mean</th>\n",
              "      <td>69.068797</td>\n",
              "      <td>162.465204</td>\n",
              "      <td>31.14410</td>\n",
              "      <td>4.328684</td>\n",
              "      <td>792.465552</td>\n",
              "      <td>65.532905</td>\n",
              "      <td>2432.922844</td>\n",
              "      <td>37.662746</td>\n",
              "      <td>43.160363</td>\n",
              "      <td>81.967095</td>\n",
              "      <td>5.431078</td>\n",
              "      <td>81.926626</td>\n",
              "      <td>1.617095</td>\n",
              "      <td>6726.080237</td>\n",
              "      <td>1.052152e+07</td>\n",
              "      <td>4.743911</td>\n",
              "      <td>4.778215</td>\n",
              "      <td>0.602879</td>\n",
              "      <td>11.482678</td>\n",
              "    </tr>\n",
              "    <tr>\n",
              "      <th>std</th>\n",
              "      <td>10.351757</td>\n",
              "      <td>121.186953</td>\n",
              "      <td>123.93232</td>\n",
              "      <td>4.146851</td>\n",
              "      <td>2077.768681</td>\n",
              "      <td>39.221347</td>\n",
              "      <td>11868.652439</td>\n",
              "      <td>20.339750</td>\n",
              "      <td>168.485929</td>\n",
              "      <td>24.521529</td>\n",
              "      <td>2.821982</td>\n",
              "      <td>24.502772</td>\n",
              "      <td>4.822150</td>\n",
              "      <td>13873.881462</td>\n",
              "      <td>5.680977e+07</td>\n",
              "      <td>4.467839</td>\n",
              "      <td>4.553418</td>\n",
              "      <td>0.244040</td>\n",
              "      <td>4.170684</td>\n",
              "    </tr>\n",
              "    <tr>\n",
              "      <th>min</th>\n",
              "      <td>0.000000</td>\n",
              "      <td>0.000000</td>\n",
              "      <td>0.00000</td>\n",
              "      <td>0.000000</td>\n",
              "      <td>0.000000</td>\n",
              "      <td>0.000000</td>\n",
              "      <td>0.000000</td>\n",
              "      <td>0.000000</td>\n",
              "      <td>0.000000</td>\n",
              "      <td>0.000000</td>\n",
              "      <td>0.000000</td>\n",
              "      <td>0.000000</td>\n",
              "      <td>0.100000</td>\n",
              "      <td>0.000000</td>\n",
              "      <td>0.000000e+00</td>\n",
              "      <td>0.000000</td>\n",
              "      <td>0.000000</td>\n",
              "      <td>0.000000</td>\n",
              "      <td>0.000000</td>\n",
              "    </tr>\n",
              "    <tr>\n",
              "      <th>25%</th>\n",
              "      <td>62.975000</td>\n",
              "      <td>73.000000</td>\n",
              "      <td>0.00000</td>\n",
              "      <td>0.407500</td>\n",
              "      <td>7.044565</td>\n",
              "      <td>14.750000</td>\n",
              "      <td>0.000000</td>\n",
              "      <td>18.900000</td>\n",
              "      <td>0.000000</td>\n",
              "      <td>78.000000</td>\n",
              "      <td>3.677500</td>\n",
              "      <td>78.000000</td>\n",
              "      <td>0.100000</td>\n",
              "      <td>238.626882</td>\n",
              "      <td>1.285900e+04</td>\n",
              "      <td>1.500000</td>\n",
              "      <td>1.500000</td>\n",
              "      <td>0.473000</td>\n",
              "      <td>9.500000</td>\n",
              "    </tr>\n",
              "    <tr>\n",
              "      <th>50%</th>\n",
              "      <td>72.100000</td>\n",
              "      <td>143.000000</td>\n",
              "      <td>2.00000</td>\n",
              "      <td>3.225000</td>\n",
              "      <td>70.648787</td>\n",
              "      <td>87.000000</td>\n",
              "      <td>14.000000</td>\n",
              "      <td>43.000000</td>\n",
              "      <td>3.000000</td>\n",
              "      <td>93.000000</td>\n",
              "      <td>5.550000</td>\n",
              "      <td>93.000000</td>\n",
              "      <td>0.100000</td>\n",
              "      <td>1254.652810</td>\n",
              "      <td>6.227965e+05</td>\n",
              "      <td>3.200000</td>\n",
              "      <td>3.200000</td>\n",
              "      <td>0.668000</td>\n",
              "      <td>12.300000</td>\n",
              "    </tr>\n",
              "    <tr>\n",
              "      <th>75%</th>\n",
              "      <td>75.800000</td>\n",
              "      <td>226.250000</td>\n",
              "      <td>18.00000</td>\n",
              "      <td>7.495000</td>\n",
              "      <td>485.959559</td>\n",
              "      <td>96.000000</td>\n",
              "      <td>329.750000</td>\n",
              "      <td>55.900000</td>\n",
              "      <td>23.000000</td>\n",
              "      <td>97.000000</td>\n",
              "      <td>7.372500</td>\n",
              "      <td>97.000000</td>\n",
              "      <td>0.800000</td>\n",
              "      <td>5277.746332</td>\n",
              "      <td>5.194999e+06</td>\n",
              "      <td>7.200000</td>\n",
              "      <td>7.300000</td>\n",
              "      <td>0.781000</td>\n",
              "      <td>14.200000</td>\n",
              "    </tr>\n",
              "    <tr>\n",
              "      <th>max</th>\n",
              "      <td>89.000000</td>\n",
              "      <td>699.000000</td>\n",
              "      <td>1800.00000</td>\n",
              "      <td>17.870000</td>\n",
              "      <td>19479.911610</td>\n",
              "      <td>99.000000</td>\n",
              "      <td>212183.000000</td>\n",
              "      <td>87.300000</td>\n",
              "      <td>2500.000000</td>\n",
              "      <td>99.000000</td>\n",
              "      <td>17.240000</td>\n",
              "      <td>99.000000</td>\n",
              "      <td>50.600000</td>\n",
              "      <td>119172.741800</td>\n",
              "      <td>1.293859e+09</td>\n",
              "      <td>27.700000</td>\n",
              "      <td>28.600000</td>\n",
              "      <td>0.948000</td>\n",
              "      <td>20.700000</td>\n",
              "    </tr>\n",
              "  </tbody>\n",
              "</table>\n",
              "</div>\n",
              "      <button class=\"colab-df-convert\" onclick=\"convertToInteractive('df-e22cbecd-d312-4408-9398-a23f13b7c34d')\"\n",
              "              title=\"Convert this dataframe to an interactive table.\"\n",
              "              style=\"display:none;\">\n",
              "        \n",
              "  <svg xmlns=\"http://www.w3.org/2000/svg\" height=\"24px\"viewBox=\"0 0 24 24\"\n",
              "       width=\"24px\">\n",
              "    <path d=\"M0 0h24v24H0V0z\" fill=\"none\"/>\n",
              "    <path d=\"M18.56 5.44l.94 2.06.94-2.06 2.06-.94-2.06-.94-.94-2.06-.94 2.06-2.06.94zm-11 1L8.5 8.5l.94-2.06 2.06-.94-2.06-.94L8.5 2.5l-.94 2.06-2.06.94zm10 10l.94 2.06.94-2.06 2.06-.94-2.06-.94-.94-2.06-.94 2.06-2.06.94z\"/><path d=\"M17.41 7.96l-1.37-1.37c-.4-.4-.92-.59-1.43-.59-.52 0-1.04.2-1.43.59L10.3 9.45l-7.72 7.72c-.78.78-.78 2.05 0 2.83L4 21.41c.39.39.9.59 1.41.59.51 0 1.02-.2 1.41-.59l7.78-7.78 2.81-2.81c.8-.78.8-2.07 0-2.86zM5.41 20L4 18.59l7.72-7.72 1.47 1.35L5.41 20z\"/>\n",
              "  </svg>\n",
              "      </button>\n",
              "      \n",
              "  <style>\n",
              "    .colab-df-container {\n",
              "      display:flex;\n",
              "      flex-wrap:wrap;\n",
              "      gap: 12px;\n",
              "    }\n",
              "\n",
              "    .colab-df-convert {\n",
              "      background-color: #E8F0FE;\n",
              "      border: none;\n",
              "      border-radius: 50%;\n",
              "      cursor: pointer;\n",
              "      display: none;\n",
              "      fill: #1967D2;\n",
              "      height: 32px;\n",
              "      padding: 0 0 0 0;\n",
              "      width: 32px;\n",
              "    }\n",
              "\n",
              "    .colab-df-convert:hover {\n",
              "      background-color: #E2EBFA;\n",
              "      box-shadow: 0px 1px 2px rgba(60, 64, 67, 0.3), 0px 1px 3px 1px rgba(60, 64, 67, 0.15);\n",
              "      fill: #174EA6;\n",
              "    }\n",
              "\n",
              "    [theme=dark] .colab-df-convert {\n",
              "      background-color: #3B4455;\n",
              "      fill: #D2E3FC;\n",
              "    }\n",
              "\n",
              "    [theme=dark] .colab-df-convert:hover {\n",
              "      background-color: #434B5C;\n",
              "      box-shadow: 0px 1px 3px 1px rgba(0, 0, 0, 0.15);\n",
              "      filter: drop-shadow(0px 1px 2px rgba(0, 0, 0, 0.3));\n",
              "      fill: #FFFFFF;\n",
              "    }\n",
              "  </style>\n",
              "\n",
              "      <script>\n",
              "        const buttonEl =\n",
              "          document.querySelector('#df-e22cbecd-d312-4408-9398-a23f13b7c34d button.colab-df-convert');\n",
              "        buttonEl.style.display =\n",
              "          google.colab.kernel.accessAllowed ? 'block' : 'none';\n",
              "\n",
              "        async function convertToInteractive(key) {\n",
              "          const element = document.querySelector('#df-e22cbecd-d312-4408-9398-a23f13b7c34d');\n",
              "          const dataTable =\n",
              "            await google.colab.kernel.invokeFunction('convertToInteractive',\n",
              "                                                     [key], {});\n",
              "          if (!dataTable) return;\n",
              "\n",
              "          const docLinkHtml = 'Like what you see? Visit the ' +\n",
              "            '<a target=\"_blank\" href=https://colab.research.google.com/notebooks/data_table.ipynb>data table notebook</a>'\n",
              "            + ' to learn more about interactive tables.';\n",
              "          element.innerHTML = '';\n",
              "          dataTable['output_type'] = 'display_data';\n",
              "          await google.colab.output.renderOutput(dataTable, element);\n",
              "          const docLink = document.createElement('div');\n",
              "          docLink.innerHTML = docLinkHtml;\n",
              "          element.appendChild(docLink);\n",
              "        }\n",
              "      </script>\n",
              "    </div>\n",
              "  </div>\n",
              "  "
            ]
          },
          "metadata": {},
          "execution_count": 159
        }
      ],
      "source": [
        "# Eliminación de los datos que no se consideran útiles para el análisis de los datos\n",
        "data = data.drop(['Unnamed: 0'], axis=1)\n",
        "data.describe()"
      ]
    },
    {
      "cell_type": "code",
      "execution_count": null,
      "metadata": {
        "id": "kBx4kbS6rWz5"
      },
      "outputs": [],
      "source": [
        "# Se eliminan las filas con nulos y los duplicados\n",
        "data = data.dropna()\n",
        "data = data.drop_duplicates()"
      ]
    },
    {
      "cell_type": "code",
      "execution_count": null,
      "metadata": {
        "colab": {
          "base_uri": "https://localhost:8080/"
        },
        "id": "3L_d3d4irWz6",
        "outputId": "e9c3478f-04d8-4fd1-ee8c-3921dc7eef4f"
      },
      "outputs": [
        {
          "output_type": "stream",
          "name": "stdout",
          "text": [
            "<class 'pandas.core.frame.DataFrame'>\n",
            "Int64Index: 2644 entries, 0 to 2643\n",
            "Data columns (total 19 columns):\n",
            " #   Column                           Non-Null Count  Dtype  \n",
            "---  ------                           --------------  -----  \n",
            " 0   Life expectancy                  2644 non-null   float64\n",
            " 1   Adult Mortality                  2644 non-null   float64\n",
            " 2   infant deaths                    2644 non-null   int64  \n",
            " 3   Alcohol                          2644 non-null   float64\n",
            " 4   percentage expenditure           2644 non-null   float64\n",
            " 5   Hepatitis B                      2644 non-null   float64\n",
            " 6   Measles                          2644 non-null   int64  \n",
            " 7   BMI                              2644 non-null   float64\n",
            " 8   under-five deaths                2644 non-null   int64  \n",
            " 9   Polio                            2644 non-null   float64\n",
            " 10  Total expenditure                2644 non-null   float64\n",
            " 11  Diphtheria                       2644 non-null   float64\n",
            " 12  HIV/AIDS                         2644 non-null   float64\n",
            " 13  GDP                              2644 non-null   float64\n",
            " 14  Population                       2644 non-null   float64\n",
            " 15  thinness  10-19 years            2644 non-null   float64\n",
            " 16  thinness 5-9 years               2644 non-null   float64\n",
            " 17  Income composition of resources  2644 non-null   float64\n",
            " 18  Schooling                        2644 non-null   float64\n",
            "dtypes: float64(16), int64(3)\n",
            "memory usage: 413.1 KB\n"
          ]
        }
      ],
      "source": [
        "#Verificamos el tipo de cada columna\n",
        "data.info()"
      ]
    },
    {
      "cell_type": "code",
      "source": [
        "#Aquí se revisó cada una de las variables para encontrar valores extraños y quitarlos más adelante\n",
        "data['Population'].value_counts()"
      ],
      "metadata": {
        "colab": {
          "base_uri": "https://localhost:8080/"
        },
        "id": "Cdjv6AlYOq6I",
        "outputId": "0271e4aa-c32a-4759-92e4-c849f883c18b"
      },
      "execution_count": null,
      "outputs": [
        {
          "output_type": "execute_result",
          "data": {
            "text/plain": [
              "0.0         540\n",
              "444.0         4\n",
              "127445.0      2\n",
              "1141.0        2\n",
              "292.0         2\n",
              "           ... \n",
              "814218.0      1\n",
              "815691.0      1\n",
              "816628.0      1\n",
              "818354.0      1\n",
              "11689.0       1\n",
              "Name: Population, Length: 2098, dtype: int64"
            ]
          },
          "metadata": {},
          "execution_count": 162
        }
      ]
    },
    {
      "cell_type": "code",
      "source": [
        "#Measles fue de las columnas más sospechosas ya que su media da por arriba de 2000 cuando no puede pasar de 1000 habitantes\n",
        "data['Measles'].value_counts()"
      ],
      "metadata": {
        "colab": {
          "base_uri": "https://localhost:8080/"
        },
        "id": "BGUtct8UVSRF",
        "outputId": "69a47a91-d88c-4bc9-f373-73383bfd2935"
      },
      "execution_count": null,
      "outputs": [
        {
          "output_type": "execute_result",
          "data": {
            "text/plain": [
              "0       899\n",
              "1        98\n",
              "2        66\n",
              "3        41\n",
              "4        30\n",
              "       ... \n",
              "1356      1\n",
              "6847      1\n",
              "216       1\n",
              "2464      1\n",
              "3578      1\n",
              "Name: Measles, Length: 859, dtype: int64"
            ]
          },
          "metadata": {},
          "execution_count": 163
        }
      ]
    },
    {
      "cell_type": "code",
      "source": [
        "#Ahora basándonos en datos lógicos pondremos los límites para diferentes variables tales como:\n",
        "#No pueden morir 0 adultos y no pueden morir más de 1000 de solo 1000\n",
        "data = data[data['Adult Mortality'].between(1,1000)]\n",
        "#No pueden morir más de 1000 de solo 1000\n",
        "data = data[data['infant deaths'].between(0,1000)]\n",
        "#La variable Measles posee muchos valores por arriba de mil así que es preferible quitar esta columna\n",
        "#data = data[data['Measles'].between(0,1000)]\n",
        "data = data.drop(['Measles'], axis=1)\n",
        "#No existen personas con un BMI inferior a 5 ni superior a 70\n",
        "data = data[data['BMI'].between(5,70)]\n",
        "#No pueden morir más de 1000 niños en un máximo de 1000 personas\n",
        "data = data[data['under-five deaths'].between(0,1000)]\n",
        "#No es posible un GDP de 0\n",
        "data = data[data['GDP'].between(1,2000000)]\n",
        "#No es posible un país con población de 0\n",
        "data = data[data['Population'].between(1,2000000000000)]"
      ],
      "metadata": {
        "id": "ZVs3GE9VNz1X"
      },
      "execution_count": null,
      "outputs": []
    },
    {
      "cell_type": "code",
      "source": [
        "data.describe()"
      ],
      "metadata": {
        "colab": {
          "base_uri": "https://localhost:8080/",
          "height": 416
        },
        "id": "VRybwHZEV8H_",
        "outputId": "6aaad292-87d1-45ec-aa3e-632970bbe473"
      },
      "execution_count": null,
      "outputs": [
        {
          "output_type": "execute_result",
          "data": {
            "text/plain": [
              "       Life expectancy  Adult Mortality  infant deaths      Alcohol  \\\n",
              "count      1923.000000      1923.000000    1923.000000  1923.000000   \n",
              "mean         69.400208       163.950078      24.278731     4.686339   \n",
              "std           9.900469       124.340377      66.721877     4.210213   \n",
              "min          36.300000         1.000000       0.000000     0.000000   \n",
              "25%          62.800000        70.000000       0.000000     0.510000   \n",
              "50%          72.100000       142.000000       3.000000     4.090000   \n",
              "75%          76.250000       229.000000      19.000000     7.720000   \n",
              "max          89.000000       699.000000     576.000000    17.870000   \n",
              "\n",
              "       percentage expenditure  Hepatitis B          BMI  under-five deaths  \\\n",
              "count             1923.000000  1923.000000  1923.000000        1923.000000   \n",
              "mean               953.996248    62.632865    38.555642          34.349974   \n",
              "std               2336.255701    39.893516    18.588739          97.012249   \n",
              "min                  0.000000     0.000000     5.000000           0.000000   \n",
              "25%                 23.955342     8.000000    19.800000           1.000000   \n",
              "50%                109.705184    84.000000    43.900000           3.000000   \n",
              "75%                580.942698    95.000000    55.800000          24.000000   \n",
              "max              19479.911610    99.000000    69.700000         943.000000   \n",
              "\n",
              "             Polio  Total expenditure   Diphtheria     HIV/AIDS  \\\n",
              "count  1923.000000        1923.000000  1923.000000  1923.000000   \n",
              "mean     81.763391           5.726495    81.947478     1.862975   \n",
              "std      24.158677           2.737880    24.147824     5.407871   \n",
              "min       0.000000           0.000000     0.000000     0.100000   \n",
              "25%      77.000000           4.165000    79.000000     0.100000   \n",
              "50%      92.000000           5.840000    92.000000     0.100000   \n",
              "75%      97.000000           7.735000    97.000000     1.000000   \n",
              "max      99.000000          14.390000    99.000000    50.600000   \n",
              "\n",
              "                 GDP    Population  thinness  10-19 years  thinness 5-9 years  \\\n",
              "count    1923.000000  1.923000e+03            1923.000000         1923.000000   \n",
              "mean     7412.095247  1.016077e+07               4.697712            4.719761   \n",
              "std     14476.641944  2.710642e+07               4.441248            4.456996   \n",
              "min         1.681350  3.400000e+01               0.100000            0.100000   \n",
              "25%       444.584160  2.161730e+05               1.400000            1.400000   \n",
              "50%      1721.973863  1.413264e+06               2.600000            2.700000   \n",
              "75%      5705.224348  7.417429e+06               7.400000            7.400000   \n",
              "max    119172.741800  2.581621e+08              22.200000           22.600000   \n",
              "\n",
              "       Income composition of resources    Schooling  \n",
              "count                      1923.000000  1923.000000  \n",
              "mean                          0.634617    12.077743  \n",
              "std                           0.208517     3.444849  \n",
              "min                           0.000000     0.000000  \n",
              "25%                           0.491000     9.900000  \n",
              "50%                           0.680000    12.400000  \n",
              "75%                           0.792000    14.700000  \n",
              "max                           0.948000    20.700000  "
            ],
            "text/html": [
              "\n",
              "  <div id=\"df-7d7fdc91-76b5-45de-993d-e337e535b36e\">\n",
              "    <div class=\"colab-df-container\">\n",
              "      <div>\n",
              "<style scoped>\n",
              "    .dataframe tbody tr th:only-of-type {\n",
              "        vertical-align: middle;\n",
              "    }\n",
              "\n",
              "    .dataframe tbody tr th {\n",
              "        vertical-align: top;\n",
              "    }\n",
              "\n",
              "    .dataframe thead th {\n",
              "        text-align: right;\n",
              "    }\n",
              "</style>\n",
              "<table border=\"1\" class=\"dataframe\">\n",
              "  <thead>\n",
              "    <tr style=\"text-align: right;\">\n",
              "      <th></th>\n",
              "      <th>Life expectancy</th>\n",
              "      <th>Adult Mortality</th>\n",
              "      <th>infant deaths</th>\n",
              "      <th>Alcohol</th>\n",
              "      <th>percentage expenditure</th>\n",
              "      <th>Hepatitis B</th>\n",
              "      <th>BMI</th>\n",
              "      <th>under-five deaths</th>\n",
              "      <th>Polio</th>\n",
              "      <th>Total expenditure</th>\n",
              "      <th>Diphtheria</th>\n",
              "      <th>HIV/AIDS</th>\n",
              "      <th>GDP</th>\n",
              "      <th>Population</th>\n",
              "      <th>thinness  10-19 years</th>\n",
              "      <th>thinness 5-9 years</th>\n",
              "      <th>Income composition of resources</th>\n",
              "      <th>Schooling</th>\n",
              "    </tr>\n",
              "  </thead>\n",
              "  <tbody>\n",
              "    <tr>\n",
              "      <th>count</th>\n",
              "      <td>1923.000000</td>\n",
              "      <td>1923.000000</td>\n",
              "      <td>1923.000000</td>\n",
              "      <td>1923.000000</td>\n",
              "      <td>1923.000000</td>\n",
              "      <td>1923.000000</td>\n",
              "      <td>1923.000000</td>\n",
              "      <td>1923.000000</td>\n",
              "      <td>1923.000000</td>\n",
              "      <td>1923.000000</td>\n",
              "      <td>1923.000000</td>\n",
              "      <td>1923.000000</td>\n",
              "      <td>1923.000000</td>\n",
              "      <td>1.923000e+03</td>\n",
              "      <td>1923.000000</td>\n",
              "      <td>1923.000000</td>\n",
              "      <td>1923.000000</td>\n",
              "      <td>1923.000000</td>\n",
              "    </tr>\n",
              "    <tr>\n",
              "      <th>mean</th>\n",
              "      <td>69.400208</td>\n",
              "      <td>163.950078</td>\n",
              "      <td>24.278731</td>\n",
              "      <td>4.686339</td>\n",
              "      <td>953.996248</td>\n",
              "      <td>62.632865</td>\n",
              "      <td>38.555642</td>\n",
              "      <td>34.349974</td>\n",
              "      <td>81.763391</td>\n",
              "      <td>5.726495</td>\n",
              "      <td>81.947478</td>\n",
              "      <td>1.862975</td>\n",
              "      <td>7412.095247</td>\n",
              "      <td>1.016077e+07</td>\n",
              "      <td>4.697712</td>\n",
              "      <td>4.719761</td>\n",
              "      <td>0.634617</td>\n",
              "      <td>12.077743</td>\n",
              "    </tr>\n",
              "    <tr>\n",
              "      <th>std</th>\n",
              "      <td>9.900469</td>\n",
              "      <td>124.340377</td>\n",
              "      <td>66.721877</td>\n",
              "      <td>4.210213</td>\n",
              "      <td>2336.255701</td>\n",
              "      <td>39.893516</td>\n",
              "      <td>18.588739</td>\n",
              "      <td>97.012249</td>\n",
              "      <td>24.158677</td>\n",
              "      <td>2.737880</td>\n",
              "      <td>24.147824</td>\n",
              "      <td>5.407871</td>\n",
              "      <td>14476.641944</td>\n",
              "      <td>2.710642e+07</td>\n",
              "      <td>4.441248</td>\n",
              "      <td>4.456996</td>\n",
              "      <td>0.208517</td>\n",
              "      <td>3.444849</td>\n",
              "    </tr>\n",
              "    <tr>\n",
              "      <th>min</th>\n",
              "      <td>36.300000</td>\n",
              "      <td>1.000000</td>\n",
              "      <td>0.000000</td>\n",
              "      <td>0.000000</td>\n",
              "      <td>0.000000</td>\n",
              "      <td>0.000000</td>\n",
              "      <td>5.000000</td>\n",
              "      <td>0.000000</td>\n",
              "      <td>0.000000</td>\n",
              "      <td>0.000000</td>\n",
              "      <td>0.000000</td>\n",
              "      <td>0.100000</td>\n",
              "      <td>1.681350</td>\n",
              "      <td>3.400000e+01</td>\n",
              "      <td>0.100000</td>\n",
              "      <td>0.100000</td>\n",
              "      <td>0.000000</td>\n",
              "      <td>0.000000</td>\n",
              "    </tr>\n",
              "    <tr>\n",
              "      <th>25%</th>\n",
              "      <td>62.800000</td>\n",
              "      <td>70.000000</td>\n",
              "      <td>0.000000</td>\n",
              "      <td>0.510000</td>\n",
              "      <td>23.955342</td>\n",
              "      <td>8.000000</td>\n",
              "      <td>19.800000</td>\n",
              "      <td>1.000000</td>\n",
              "      <td>77.000000</td>\n",
              "      <td>4.165000</td>\n",
              "      <td>79.000000</td>\n",
              "      <td>0.100000</td>\n",
              "      <td>444.584160</td>\n",
              "      <td>2.161730e+05</td>\n",
              "      <td>1.400000</td>\n",
              "      <td>1.400000</td>\n",
              "      <td>0.491000</td>\n",
              "      <td>9.900000</td>\n",
              "    </tr>\n",
              "    <tr>\n",
              "      <th>50%</th>\n",
              "      <td>72.100000</td>\n",
              "      <td>142.000000</td>\n",
              "      <td>3.000000</td>\n",
              "      <td>4.090000</td>\n",
              "      <td>109.705184</td>\n",
              "      <td>84.000000</td>\n",
              "      <td>43.900000</td>\n",
              "      <td>3.000000</td>\n",
              "      <td>92.000000</td>\n",
              "      <td>5.840000</td>\n",
              "      <td>92.000000</td>\n",
              "      <td>0.100000</td>\n",
              "      <td>1721.973863</td>\n",
              "      <td>1.413264e+06</td>\n",
              "      <td>2.600000</td>\n",
              "      <td>2.700000</td>\n",
              "      <td>0.680000</td>\n",
              "      <td>12.400000</td>\n",
              "    </tr>\n",
              "    <tr>\n",
              "      <th>75%</th>\n",
              "      <td>76.250000</td>\n",
              "      <td>229.000000</td>\n",
              "      <td>19.000000</td>\n",
              "      <td>7.720000</td>\n",
              "      <td>580.942698</td>\n",
              "      <td>95.000000</td>\n",
              "      <td>55.800000</td>\n",
              "      <td>24.000000</td>\n",
              "      <td>97.000000</td>\n",
              "      <td>7.735000</td>\n",
              "      <td>97.000000</td>\n",
              "      <td>1.000000</td>\n",
              "      <td>5705.224348</td>\n",
              "      <td>7.417429e+06</td>\n",
              "      <td>7.400000</td>\n",
              "      <td>7.400000</td>\n",
              "      <td>0.792000</td>\n",
              "      <td>14.700000</td>\n",
              "    </tr>\n",
              "    <tr>\n",
              "      <th>max</th>\n",
              "      <td>89.000000</td>\n",
              "      <td>699.000000</td>\n",
              "      <td>576.000000</td>\n",
              "      <td>17.870000</td>\n",
              "      <td>19479.911610</td>\n",
              "      <td>99.000000</td>\n",
              "      <td>69.700000</td>\n",
              "      <td>943.000000</td>\n",
              "      <td>99.000000</td>\n",
              "      <td>14.390000</td>\n",
              "      <td>99.000000</td>\n",
              "      <td>50.600000</td>\n",
              "      <td>119172.741800</td>\n",
              "      <td>2.581621e+08</td>\n",
              "      <td>22.200000</td>\n",
              "      <td>22.600000</td>\n",
              "      <td>0.948000</td>\n",
              "      <td>20.700000</td>\n",
              "    </tr>\n",
              "  </tbody>\n",
              "</table>\n",
              "</div>\n",
              "      <button class=\"colab-df-convert\" onclick=\"convertToInteractive('df-7d7fdc91-76b5-45de-993d-e337e535b36e')\"\n",
              "              title=\"Convert this dataframe to an interactive table.\"\n",
              "              style=\"display:none;\">\n",
              "        \n",
              "  <svg xmlns=\"http://www.w3.org/2000/svg\" height=\"24px\"viewBox=\"0 0 24 24\"\n",
              "       width=\"24px\">\n",
              "    <path d=\"M0 0h24v24H0V0z\" fill=\"none\"/>\n",
              "    <path d=\"M18.56 5.44l.94 2.06.94-2.06 2.06-.94-2.06-.94-.94-2.06-.94 2.06-2.06.94zm-11 1L8.5 8.5l.94-2.06 2.06-.94-2.06-.94L8.5 2.5l-.94 2.06-2.06.94zm10 10l.94 2.06.94-2.06 2.06-.94-2.06-.94-.94-2.06-.94 2.06-2.06.94z\"/><path d=\"M17.41 7.96l-1.37-1.37c-.4-.4-.92-.59-1.43-.59-.52 0-1.04.2-1.43.59L10.3 9.45l-7.72 7.72c-.78.78-.78 2.05 0 2.83L4 21.41c.39.39.9.59 1.41.59.51 0 1.02-.2 1.41-.59l7.78-7.78 2.81-2.81c.8-.78.8-2.07 0-2.86zM5.41 20L4 18.59l7.72-7.72 1.47 1.35L5.41 20z\"/>\n",
              "  </svg>\n",
              "      </button>\n",
              "      \n",
              "  <style>\n",
              "    .colab-df-container {\n",
              "      display:flex;\n",
              "      flex-wrap:wrap;\n",
              "      gap: 12px;\n",
              "    }\n",
              "\n",
              "    .colab-df-convert {\n",
              "      background-color: #E8F0FE;\n",
              "      border: none;\n",
              "      border-radius: 50%;\n",
              "      cursor: pointer;\n",
              "      display: none;\n",
              "      fill: #1967D2;\n",
              "      height: 32px;\n",
              "      padding: 0 0 0 0;\n",
              "      width: 32px;\n",
              "    }\n",
              "\n",
              "    .colab-df-convert:hover {\n",
              "      background-color: #E2EBFA;\n",
              "      box-shadow: 0px 1px 2px rgba(60, 64, 67, 0.3), 0px 1px 3px 1px rgba(60, 64, 67, 0.15);\n",
              "      fill: #174EA6;\n",
              "    }\n",
              "\n",
              "    [theme=dark] .colab-df-convert {\n",
              "      background-color: #3B4455;\n",
              "      fill: #D2E3FC;\n",
              "    }\n",
              "\n",
              "    [theme=dark] .colab-df-convert:hover {\n",
              "      background-color: #434B5C;\n",
              "      box-shadow: 0px 1px 3px 1px rgba(0, 0, 0, 0.15);\n",
              "      filter: drop-shadow(0px 1px 2px rgba(0, 0, 0, 0.3));\n",
              "      fill: #FFFFFF;\n",
              "    }\n",
              "  </style>\n",
              "\n",
              "      <script>\n",
              "        const buttonEl =\n",
              "          document.querySelector('#df-7d7fdc91-76b5-45de-993d-e337e535b36e button.colab-df-convert');\n",
              "        buttonEl.style.display =\n",
              "          google.colab.kernel.accessAllowed ? 'block' : 'none';\n",
              "\n",
              "        async function convertToInteractive(key) {\n",
              "          const element = document.querySelector('#df-7d7fdc91-76b5-45de-993d-e337e535b36e');\n",
              "          const dataTable =\n",
              "            await google.colab.kernel.invokeFunction('convertToInteractive',\n",
              "                                                     [key], {});\n",
              "          if (!dataTable) return;\n",
              "\n",
              "          const docLinkHtml = 'Like what you see? Visit the ' +\n",
              "            '<a target=\"_blank\" href=https://colab.research.google.com/notebooks/data_table.ipynb>data table notebook</a>'\n",
              "            + ' to learn more about interactive tables.';\n",
              "          element.innerHTML = '';\n",
              "          dataTable['output_type'] = 'display_data';\n",
              "          await google.colab.output.renderOutput(dataTable, element);\n",
              "          const docLink = document.createElement('div');\n",
              "          docLink.innerHTML = docLinkHtml;\n",
              "          element.appendChild(docLink);\n",
              "        }\n",
              "      </script>\n",
              "    </div>\n",
              "  </div>\n",
              "  "
            ]
          },
          "metadata": {},
          "execution_count": 165
        }
      ]
    },
    {
      "cell_type": "code",
      "execution_count": null,
      "metadata": {
        "id": "ITc8Bdk3rWz6"
      },
      "outputs": [],
      "source": [
        "#Después de esto verificamos que todos los valores fueran numéricos\n",
        "for i in data.columns:    \n",
        "    data = data[pd.to_numeric(data[i], errors='coerce').notnull()]"
      ]
    },
    {
      "cell_type": "code",
      "execution_count": null,
      "metadata": {
        "colab": {
          "base_uri": "https://localhost:8080/"
        },
        "id": "-whfbSMbrWz7",
        "outputId": "07573f17-5a80-41e4-8e66-44e62f140cd2"
      },
      "outputs": [
        {
          "output_type": "stream",
          "name": "stdout",
          "text": [
            "<class 'pandas.core.frame.DataFrame'>\n",
            "Int64Index: 1923 entries, 0 to 2643\n",
            "Data columns (total 18 columns):\n",
            " #   Column                           Non-Null Count  Dtype  \n",
            "---  ------                           --------------  -----  \n",
            " 0   Life expectancy                  1923 non-null   float64\n",
            " 1   Adult Mortality                  1923 non-null   float64\n",
            " 2   infant deaths                    1923 non-null   float64\n",
            " 3   Alcohol                          1923 non-null   float64\n",
            " 4   percentage expenditure           1923 non-null   float64\n",
            " 5   Hepatitis B                      1923 non-null   float64\n",
            " 6   BMI                              1923 non-null   float64\n",
            " 7   under-five deaths                1923 non-null   float64\n",
            " 8   Polio                            1923 non-null   float64\n",
            " 9   Total expenditure                1923 non-null   float64\n",
            " 10  Diphtheria                       1923 non-null   float64\n",
            " 11  HIV/AIDS                         1923 non-null   float64\n",
            " 12  GDP                              1923 non-null   float64\n",
            " 13  Population                       1923 non-null   float64\n",
            " 14  thinness  10-19 years            1923 non-null   float64\n",
            " 15  thinness 5-9 years               1923 non-null   float64\n",
            " 16  Income composition of resources  1923 non-null   float64\n",
            " 17  Schooling                        1923 non-null   float64\n",
            "dtypes: float64(18)\n",
            "memory usage: 285.4 KB\n"
          ]
        }
      ],
      "source": [
        "#Todas las columnas se vuelven numéricas\n",
        "for col in data.columns:\n",
        "    data[col] = data[col].astype('float64')\n",
        "#Verificamos el tipo de cada columna\n",
        "data.info()"
      ]
    },
    {
      "cell_type": "code",
      "execution_count": null,
      "metadata": {
        "colab": {
          "base_uri": "https://localhost:8080/",
          "height": 285
        },
        "id": "bvwKrbcmrWz7",
        "outputId": "e87845af-9175-4208-ef6b-9fa5049924e2"
      },
      "outputs": [
        {
          "output_type": "execute_result",
          "data": {
            "text/plain": [
              "   Life expectancy  Adult Mortality  infant deaths  Alcohol  \\\n",
              "0             65.0            263.0           62.0     0.01   \n",
              "1             59.9            271.0           64.0     0.01   \n",
              "2             59.9            268.0           66.0     0.01   \n",
              "3             59.5            272.0           69.0     0.01   \n",
              "4             59.2            275.0           71.0     0.01   \n",
              "\n",
              "   percentage expenditure  Hepatitis B   BMI  under-five deaths  Polio  \\\n",
              "0               71.279624         65.0  19.1               83.0    6.0   \n",
              "1               73.523582         62.0  18.6               86.0   58.0   \n",
              "2               73.219243         64.0  18.1               89.0   62.0   \n",
              "3               78.184215         67.0  17.6               93.0   67.0   \n",
              "4                7.097109         68.0  17.2               97.0   68.0   \n",
              "\n",
              "   Total expenditure  Diphtheria  HIV/AIDS         GDP  Population  \\\n",
              "0               8.16        65.0       0.1  584.259210  33736494.0   \n",
              "1               8.18        62.0       0.1  612.696514    327582.0   \n",
              "2               8.13        64.0       0.1  631.744976  31731688.0   \n",
              "3               8.52        67.0       0.1  669.959000   3696958.0   \n",
              "4               7.87        68.0       0.1   63.537231   2978599.0   \n",
              "\n",
              "   thinness  10-19 years  thinness 5-9 years  Income composition of resources  \\\n",
              "0                   17.2                17.3                            0.479   \n",
              "1                   17.5                17.5                            0.476   \n",
              "2                   17.7                17.7                            0.470   \n",
              "3                   17.9                18.0                            0.463   \n",
              "4                   18.2                18.2                            0.454   \n",
              "\n",
              "   Schooling  \n",
              "0       10.1  \n",
              "1       10.0  \n",
              "2        9.9  \n",
              "3        9.8  \n",
              "4        9.5  "
            ],
            "text/html": [
              "\n",
              "  <div id=\"df-0d76137c-e152-4ad4-885d-b53d7cba49f6\">\n",
              "    <div class=\"colab-df-container\">\n",
              "      <div>\n",
              "<style scoped>\n",
              "    .dataframe tbody tr th:only-of-type {\n",
              "        vertical-align: middle;\n",
              "    }\n",
              "\n",
              "    .dataframe tbody tr th {\n",
              "        vertical-align: top;\n",
              "    }\n",
              "\n",
              "    .dataframe thead th {\n",
              "        text-align: right;\n",
              "    }\n",
              "</style>\n",
              "<table border=\"1\" class=\"dataframe\">\n",
              "  <thead>\n",
              "    <tr style=\"text-align: right;\">\n",
              "      <th></th>\n",
              "      <th>Life expectancy</th>\n",
              "      <th>Adult Mortality</th>\n",
              "      <th>infant deaths</th>\n",
              "      <th>Alcohol</th>\n",
              "      <th>percentage expenditure</th>\n",
              "      <th>Hepatitis B</th>\n",
              "      <th>BMI</th>\n",
              "      <th>under-five deaths</th>\n",
              "      <th>Polio</th>\n",
              "      <th>Total expenditure</th>\n",
              "      <th>Diphtheria</th>\n",
              "      <th>HIV/AIDS</th>\n",
              "      <th>GDP</th>\n",
              "      <th>Population</th>\n",
              "      <th>thinness  10-19 years</th>\n",
              "      <th>thinness 5-9 years</th>\n",
              "      <th>Income composition of resources</th>\n",
              "      <th>Schooling</th>\n",
              "    </tr>\n",
              "  </thead>\n",
              "  <tbody>\n",
              "    <tr>\n",
              "      <th>0</th>\n",
              "      <td>65.0</td>\n",
              "      <td>263.0</td>\n",
              "      <td>62.0</td>\n",
              "      <td>0.01</td>\n",
              "      <td>71.279624</td>\n",
              "      <td>65.0</td>\n",
              "      <td>19.1</td>\n",
              "      <td>83.0</td>\n",
              "      <td>6.0</td>\n",
              "      <td>8.16</td>\n",
              "      <td>65.0</td>\n",
              "      <td>0.1</td>\n",
              "      <td>584.259210</td>\n",
              "      <td>33736494.0</td>\n",
              "      <td>17.2</td>\n",
              "      <td>17.3</td>\n",
              "      <td>0.479</td>\n",
              "      <td>10.1</td>\n",
              "    </tr>\n",
              "    <tr>\n",
              "      <th>1</th>\n",
              "      <td>59.9</td>\n",
              "      <td>271.0</td>\n",
              "      <td>64.0</td>\n",
              "      <td>0.01</td>\n",
              "      <td>73.523582</td>\n",
              "      <td>62.0</td>\n",
              "      <td>18.6</td>\n",
              "      <td>86.0</td>\n",
              "      <td>58.0</td>\n",
              "      <td>8.18</td>\n",
              "      <td>62.0</td>\n",
              "      <td>0.1</td>\n",
              "      <td>612.696514</td>\n",
              "      <td>327582.0</td>\n",
              "      <td>17.5</td>\n",
              "      <td>17.5</td>\n",
              "      <td>0.476</td>\n",
              "      <td>10.0</td>\n",
              "    </tr>\n",
              "    <tr>\n",
              "      <th>2</th>\n",
              "      <td>59.9</td>\n",
              "      <td>268.0</td>\n",
              "      <td>66.0</td>\n",
              "      <td>0.01</td>\n",
              "      <td>73.219243</td>\n",
              "      <td>64.0</td>\n",
              "      <td>18.1</td>\n",
              "      <td>89.0</td>\n",
              "      <td>62.0</td>\n",
              "      <td>8.13</td>\n",
              "      <td>64.0</td>\n",
              "      <td>0.1</td>\n",
              "      <td>631.744976</td>\n",
              "      <td>31731688.0</td>\n",
              "      <td>17.7</td>\n",
              "      <td>17.7</td>\n",
              "      <td>0.470</td>\n",
              "      <td>9.9</td>\n",
              "    </tr>\n",
              "    <tr>\n",
              "      <th>3</th>\n",
              "      <td>59.5</td>\n",
              "      <td>272.0</td>\n",
              "      <td>69.0</td>\n",
              "      <td>0.01</td>\n",
              "      <td>78.184215</td>\n",
              "      <td>67.0</td>\n",
              "      <td>17.6</td>\n",
              "      <td>93.0</td>\n",
              "      <td>67.0</td>\n",
              "      <td>8.52</td>\n",
              "      <td>67.0</td>\n",
              "      <td>0.1</td>\n",
              "      <td>669.959000</td>\n",
              "      <td>3696958.0</td>\n",
              "      <td>17.9</td>\n",
              "      <td>18.0</td>\n",
              "      <td>0.463</td>\n",
              "      <td>9.8</td>\n",
              "    </tr>\n",
              "    <tr>\n",
              "      <th>4</th>\n",
              "      <td>59.2</td>\n",
              "      <td>275.0</td>\n",
              "      <td>71.0</td>\n",
              "      <td>0.01</td>\n",
              "      <td>7.097109</td>\n",
              "      <td>68.0</td>\n",
              "      <td>17.2</td>\n",
              "      <td>97.0</td>\n",
              "      <td>68.0</td>\n",
              "      <td>7.87</td>\n",
              "      <td>68.0</td>\n",
              "      <td>0.1</td>\n",
              "      <td>63.537231</td>\n",
              "      <td>2978599.0</td>\n",
              "      <td>18.2</td>\n",
              "      <td>18.2</td>\n",
              "      <td>0.454</td>\n",
              "      <td>9.5</td>\n",
              "    </tr>\n",
              "  </tbody>\n",
              "</table>\n",
              "</div>\n",
              "      <button class=\"colab-df-convert\" onclick=\"convertToInteractive('df-0d76137c-e152-4ad4-885d-b53d7cba49f6')\"\n",
              "              title=\"Convert this dataframe to an interactive table.\"\n",
              "              style=\"display:none;\">\n",
              "        \n",
              "  <svg xmlns=\"http://www.w3.org/2000/svg\" height=\"24px\"viewBox=\"0 0 24 24\"\n",
              "       width=\"24px\">\n",
              "    <path d=\"M0 0h24v24H0V0z\" fill=\"none\"/>\n",
              "    <path d=\"M18.56 5.44l.94 2.06.94-2.06 2.06-.94-2.06-.94-.94-2.06-.94 2.06-2.06.94zm-11 1L8.5 8.5l.94-2.06 2.06-.94-2.06-.94L8.5 2.5l-.94 2.06-2.06.94zm10 10l.94 2.06.94-2.06 2.06-.94-2.06-.94-.94-2.06-.94 2.06-2.06.94z\"/><path d=\"M17.41 7.96l-1.37-1.37c-.4-.4-.92-.59-1.43-.59-.52 0-1.04.2-1.43.59L10.3 9.45l-7.72 7.72c-.78.78-.78 2.05 0 2.83L4 21.41c.39.39.9.59 1.41.59.51 0 1.02-.2 1.41-.59l7.78-7.78 2.81-2.81c.8-.78.8-2.07 0-2.86zM5.41 20L4 18.59l7.72-7.72 1.47 1.35L5.41 20z\"/>\n",
              "  </svg>\n",
              "      </button>\n",
              "      \n",
              "  <style>\n",
              "    .colab-df-container {\n",
              "      display:flex;\n",
              "      flex-wrap:wrap;\n",
              "      gap: 12px;\n",
              "    }\n",
              "\n",
              "    .colab-df-convert {\n",
              "      background-color: #E8F0FE;\n",
              "      border: none;\n",
              "      border-radius: 50%;\n",
              "      cursor: pointer;\n",
              "      display: none;\n",
              "      fill: #1967D2;\n",
              "      height: 32px;\n",
              "      padding: 0 0 0 0;\n",
              "      width: 32px;\n",
              "    }\n",
              "\n",
              "    .colab-df-convert:hover {\n",
              "      background-color: #E2EBFA;\n",
              "      box-shadow: 0px 1px 2px rgba(60, 64, 67, 0.3), 0px 1px 3px 1px rgba(60, 64, 67, 0.15);\n",
              "      fill: #174EA6;\n",
              "    }\n",
              "\n",
              "    [theme=dark] .colab-df-convert {\n",
              "      background-color: #3B4455;\n",
              "      fill: #D2E3FC;\n",
              "    }\n",
              "\n",
              "    [theme=dark] .colab-df-convert:hover {\n",
              "      background-color: #434B5C;\n",
              "      box-shadow: 0px 1px 3px 1px rgba(0, 0, 0, 0.15);\n",
              "      filter: drop-shadow(0px 1px 2px rgba(0, 0, 0, 0.3));\n",
              "      fill: #FFFFFF;\n",
              "    }\n",
              "  </style>\n",
              "\n",
              "      <script>\n",
              "        const buttonEl =\n",
              "          document.querySelector('#df-0d76137c-e152-4ad4-885d-b53d7cba49f6 button.colab-df-convert');\n",
              "        buttonEl.style.display =\n",
              "          google.colab.kernel.accessAllowed ? 'block' : 'none';\n",
              "\n",
              "        async function convertToInteractive(key) {\n",
              "          const element = document.querySelector('#df-0d76137c-e152-4ad4-885d-b53d7cba49f6');\n",
              "          const dataTable =\n",
              "            await google.colab.kernel.invokeFunction('convertToInteractive',\n",
              "                                                     [key], {});\n",
              "          if (!dataTable) return;\n",
              "\n",
              "          const docLinkHtml = 'Like what you see? Visit the ' +\n",
              "            '<a target=\"_blank\" href=https://colab.research.google.com/notebooks/data_table.ipynb>data table notebook</a>'\n",
              "            + ' to learn more about interactive tables.';\n",
              "          element.innerHTML = '';\n",
              "          dataTable['output_type'] = 'display_data';\n",
              "          await google.colab.output.renderOutput(dataTable, element);\n",
              "          const docLink = document.createElement('div');\n",
              "          docLink.innerHTML = docLinkHtml;\n",
              "          element.appendChild(docLink);\n",
              "        }\n",
              "      </script>\n",
              "    </div>\n",
              "  </div>\n",
              "  "
            ]
          },
          "metadata": {},
          "execution_count": 168
        }
      ],
      "source": [
        "data.head()"
      ]
    },
    {
      "cell_type": "markdown",
      "metadata": {
        "id": "MXc6qs__rWz7"
      },
      "source": [
        "# 2. Identificación de variables a utilizar\n",
        "### Exploración y descripción de los datos\n",
        "Ya con los datos preparados identificamos la variable objetivo \"Life expectancy\" y al correr un primer intento de modelo quitamos las variables que no representan de forma lineal a la variable (Esto se hace al final de esta sección)"
      ]
    },
    {
      "cell_type": "code",
      "execution_count": null,
      "metadata": {
        "colab": {
          "base_uri": "https://localhost:8080/"
        },
        "id": "ohGYGX1CrWz8",
        "outputId": "4665dd2b-b68a-4f70-dd4c-0aa231c95ae0"
      },
      "outputs": [
        {
          "output_type": "execute_result",
          "data": {
            "text/plain": [
              "73.0    36\n",
              "75.0    22\n",
              "81.0    21\n",
              "78.0    19\n",
              "73.9    19\n",
              "        ..\n",
              "43.1     1\n",
              "57.8     1\n",
              "46.3     1\n",
              "49.9     1\n",
              "44.6     1\n",
              "Name: Life expectancy, Length: 350, dtype: int64"
            ]
          },
          "metadata": {},
          "execution_count": 169
        }
      ],
      "source": [
        "#Se cuentan los valores de la variable target\n",
        "data[\"Life expectancy\"].value_counts()"
      ]
    },
    {
      "cell_type": "code",
      "execution_count": null,
      "metadata": {
        "colab": {
          "base_uri": "https://localhost:8080/",
          "height": 494
        },
        "id": "smkLrLLBrWz8",
        "outputId": "2f607ab9-04f6-45b0-842e-51f6d597d968"
      },
      "outputs": [
        {
          "output_type": "display_data",
          "data": {
            "text/plain": [
              "<Figure size 1440x576 with 1 Axes>"
            ],
            "image/png": "[encoded data removed]"
          },
          "metadata": {
            "needs_background": "light"
          }
        }
      ],
      "source": [
        "#Visualización de todas las variables numéricas\n",
        "fig=plt.figure(figsize=(20,8))\n",
        "ax = sns.boxplot(data=data, orient=\"v\")"
      ]
    },
    {
      "cell_type": "code",
      "execution_count": null,
      "metadata": {
        "id": "nZuwRw0QrWz8"
      },
      "outputs": [],
      "source": [
        "#Se decidió no realizar este paso ya que deja una interpretación perfecta por parte del modelo de regresión lineal por lo que es sospechoso y se prefiere quitar\n",
        "#Normalizamos los datos ya que estos tienen rangos y escalas muy distintas, así podemos mejorar el modelo\n",
        "#d = preprocessing.normalize(data)\n",
        "#data_norm = pd.DataFrame(d, columns=data.columns)\n",
        "#data=data_norm"
      ]
    },
    {
      "cell_type": "code",
      "execution_count": null,
      "metadata": {
        "colab": {
          "base_uri": "https://localhost:8080/",
          "height": 1000
        },
        "id": "4lUIBfqErWz9",
        "outputId": "65f96716-f70d-4bd0-813c-88729a29cf5b"
      },
      "outputs": [
        {
          "output_type": "execute_result",
          "data": {
            "text/plain": [
              "<matplotlib.axes._subplots.AxesSubplot at 0x7ff0e0bbc1d0>"
            ]
          },
          "metadata": {},
          "execution_count": 172
        },
        {
          "output_type": "display_data",
          "data": {
            "text/plain": [
              "<Figure size 1080x1080 with 2 Axes>"
            ],
            "image/png": "[encoded data removed]"
          },
          "metadata": {
            "needs_background": "light"
          }
        }
      ],
      "source": [
        "# ¿Hay correlación entre variables?\n",
        "plt.figure(figsize =(15,15))\n",
        "correlacion = data.corr()\n",
        "sns.heatmap(correlacion, cmap = 'GnBu', annot = True)"
      ]
    },
    {
      "cell_type": "markdown",
      "metadata": {
        "id": "JSIkAFF5rWz9"
      },
      "source": [
        "## Este paso no se decide hacer ya que baja el R2 del modelo\n",
        "Después de realizar un primero modelo se obtuvo que las siguientes variables no son importantes para el modelo de regresión ya que el P-value>Significancia (5%):\n",
        "- infant deaths\tP-value:0.937\n",
        "- percentage expenditure\tP-value:0.166\n",
        "- under-five deaths\tP-value:0.237\t\n",
        "- Population\tP-value:0.473"
      ]
    },
    {
      "cell_type": "code",
      "execution_count": null,
      "metadata": {
        "id": "gQ5IVArkrWz9"
      },
      "outputs": [],
      "source": [
        "# Esas variables se retiran del modelo:\n",
        "#data = data.drop(['infant deaths','percentage expenditure','under-five deaths','Population'], axis=1)"
      ]
    },
    {
      "cell_type": "markdown",
      "metadata": {
        "id": "65E-2EaArWz9"
      },
      "source": [
        "# 3. Construcción del modelo\n",
        "Después de limpiar y discriminar los datos, se procede a crear la regresión Lineal con la variable objetivo ya planteada"
      ]
    },
    {
      "cell_type": "code",
      "execution_count": null,
      "metadata": {
        "id": "Q6d1vlntrWz-"
      },
      "outputs": [],
      "source": [
        "# Se selecciona la variable objetivo, en este caso \"Life expectancy\".\n",
        "Y = data['Life expectancy']\n",
        "# Del conjunto de datos se elimina la variable \"PermaneceEnEmpresa\"\n",
        "X = data.drop(['Life expectancy'], axis=1)"
      ]
    },
    {
      "cell_type": "code",
      "execution_count": null,
      "metadata": {
        "id": "MtBosdXLrWz-"
      },
      "outputs": [],
      "source": [
        "# Se realiza la división entrenamiento - test. Se deja 20% de los datos para el test.\n",
        "X_train, X_test, Y_train, Y_test = train_test_split( X, Y, test_size=0.2, random_state=0)"
      ]
    },
    {
      "cell_type": "code",
      "execution_count": null,
      "metadata": {
        "colab": {
          "base_uri": "https://localhost:8080/"
        },
        "id": "Jvt7ymHurWz-",
        "outputId": "9efb959a-8136-43cc-d4f4-e618ff49501d"
      },
      "outputs": [
        {
          "output_type": "execute_result",
          "data": {
            "text/plain": [
              "LinearRegression()"
            ]
          },
          "metadata": {},
          "execution_count": 176
        }
      ],
      "source": [
        "# Primero se crea el objeto para construir el modelo\n",
        "modelo_regresion = LinearRegression()\n",
        "\n",
        "# Ajustar el modelo con los datos de entrenamiento\n",
        "modelo_regresion.fit(X_train,Y_train)"
      ]
    },
    {
      "cell_type": "markdown",
      "metadata": {
        "id": "YP5e64EcrWz-"
      },
      "source": [
        "# 4. Evaluación del modelo (cuantitativa y cualitativa)\n",
        "Las métricas de evaluación nos van a permitir determinar qué tan bien se desempeña un modelo; es decir, cómo se ajusta a los datos. En esta sección se utilizan las siguientes métricas\n",
        "\n",
        "1. Mean-Squared-Error(MSE). Error medio cuadrático\n",
        "2. Mean-Absolute-Error(MAE). Error absoluto medio\n",
        "3. R² or Coeficiente de determinación."
      ]
    },
    {
      "cell_type": "code",
      "execution_count": null,
      "metadata": {
        "colab": {
          "base_uri": "https://localhost:8080/"
        },
        "id": "oM7oi5pWrWz_",
        "outputId": "df4a7039-bc7d-455f-8a8a-9e290a6270e2"
      },
      "outputs": [
        {
          "output_type": "stream",
          "name": "stdout",
          "text": [
            "MSE: 3.84\n",
            "MAE: 2.85\n",
            "R²: 0.85\n"
          ]
        }
      ],
      "source": [
        "# Se obtienen las predicciones del modelo sobre el conjunto de entrenamiento.\n",
        "y_pred_train = modelo_regresion.predict(X_train)\n",
        "# Se obtienen las métricas a partir de la predicción y la base de evaluación (valores reales).\n",
        "print(\"MSE: %.2f\" % mean_squared_error(Y_train, y_pred_train, squared=False))\n",
        "print(\"MAE: %.2f\" % mean_absolute_error(Y_train, y_pred_train))\n",
        "print('R²: %.2f' % r2_score(Y_train, y_pred_train))"
      ]
    },
    {
      "cell_type": "code",
      "execution_count": null,
      "metadata": {
        "colab": {
          "base_uri": "https://localhost:8080/"
        },
        "id": "WrKnn4HTrWz_",
        "outputId": "a846332b-4510-459a-fd23-154f443592c6"
      },
      "outputs": [
        {
          "output_type": "stream",
          "name": "stdout",
          "text": [
            "MSE: 4.09\n",
            "MAE: 3.08\n",
            "R²: 0.84\n"
          ]
        }
      ],
      "source": [
        "# Se obtienen las predicciones del modelo sobre el conjunto test.\n",
        "y_pred_test = modelo_regresion.predict(X_test)\n",
        "# Se obtienen las métricas a partir de la predicción y la base de evaluación (valores reales).\n",
        "print(\"MSE: %.2f\" % mean_squared_error(Y_test, y_pred_test, squared=False))\n",
        "print(\"MAE: %.2f\" % mean_absolute_error(Y_test, y_pred_test))\n",
        "print('R²: %.2f' % r2_score(Y_test, y_pred_test))"
      ]
    },
    {
      "cell_type": "code",
      "execution_count": null,
      "metadata": {
        "colab": {
          "base_uri": "https://localhost:8080/"
        },
        "id": "7nbySRaKrWz_",
        "outputId": "b9867f6d-c991-459f-8ef8-9e00612b821a"
      },
      "outputs": [
        {
          "output_type": "execute_result",
          "data": {
            "text/plain": [
              "LinearRegression()"
            ]
          },
          "metadata": {},
          "execution_count": 152
        }
      ],
      "source": [
        "# Ajustar el modelo con los datos de entrenamiento\n",
        "modelo_regresion.fit(X,Y)"
      ]
    },
    {
      "cell_type": "code",
      "execution_count": null,
      "metadata": {
        "colab": {
          "base_uri": "https://localhost:8080/",
          "height": 457
        },
        "id": "rs-5_F85rWz_",
        "outputId": "1f4e8ade-5570-4734-eddf-c784b8c6883c"
      },
      "outputs": [
        {
          "output_type": "execute_result",
          "data": {
            "text/plain": [
              "                           Atributo  Importancia\n",
              "0   Income composition of resources    10.557665\n",
              "1                         Schooling     0.883936\n",
              "2                 Total expenditure     0.095712\n",
              "3                               BMI     0.048096\n",
              "4                        Diphtheria     0.025803\n",
              "5                             Polio     0.013417\n",
              "6                       Hepatitis B     0.001894\n",
              "7                               GDP     0.000051\n",
              "8                   Adult Mortality    -0.018563\n",
              "9             thinness  10-19 years    -0.034888\n",
              "10               thinness 5-9 years    -0.041420\n",
              "11                          Alcohol    -0.158554\n",
              "12                         HIV/AIDS    -0.444017"
            ],
            "text/html": [
              "\n",
              "  <div id=\"df-a5abb2b5-d910-41b9-a820-8453499685ad\">\n",
              "    <div class=\"colab-df-container\">\n",
              "      <div>\n",
              "<style scoped>\n",
              "    .dataframe tbody tr th:only-of-type {\n",
              "        vertical-align: middle;\n",
              "    }\n",
              "\n",
              "    .dataframe tbody tr th {\n",
              "        vertical-align: top;\n",
              "    }\n",
              "\n",
              "    .dataframe thead th {\n",
              "        text-align: right;\n",
              "    }\n",
              "</style>\n",
              "<table border=\"1\" class=\"dataframe\">\n",
              "  <thead>\n",
              "    <tr style=\"text-align: right;\">\n",
              "      <th></th>\n",
              "      <th>Atributo</th>\n",
              "      <th>Importancia</th>\n",
              "    </tr>\n",
              "  </thead>\n",
              "  <tbody>\n",
              "    <tr>\n",
              "      <th>0</th>\n",
              "      <td>Income composition of resources</td>\n",
              "      <td>10.557665</td>\n",
              "    </tr>\n",
              "    <tr>\n",
              "      <th>1</th>\n",
              "      <td>Schooling</td>\n",
              "      <td>0.883936</td>\n",
              "    </tr>\n",
              "    <tr>\n",
              "      <th>2</th>\n",
              "      <td>Total expenditure</td>\n",
              "      <td>0.095712</td>\n",
              "    </tr>\n",
              "    <tr>\n",
              "      <th>3</th>\n",
              "      <td>BMI</td>\n",
              "      <td>0.048096</td>\n",
              "    </tr>\n",
              "    <tr>\n",
              "      <th>4</th>\n",
              "      <td>Diphtheria</td>\n",
              "      <td>0.025803</td>\n",
              "    </tr>\n",
              "    <tr>\n",
              "      <th>5</th>\n",
              "      <td>Polio</td>\n",
              "      <td>0.013417</td>\n",
              "    </tr>\n",
              "    <tr>\n",
              "      <th>6</th>\n",
              "      <td>Hepatitis B</td>\n",
              "      <td>0.001894</td>\n",
              "    </tr>\n",
              "    <tr>\n",
              "      <th>7</th>\n",
              "      <td>GDP</td>\n",
              "      <td>0.000051</td>\n",
              "    </tr>\n",
              "    <tr>\n",
              "      <th>8</th>\n",
              "      <td>Adult Mortality</td>\n",
              "      <td>-0.018563</td>\n",
              "    </tr>\n",
              "    <tr>\n",
              "      <th>9</th>\n",
              "      <td>thinness  10-19 years</td>\n",
              "      <td>-0.034888</td>\n",
              "    </tr>\n",
              "    <tr>\n",
              "      <th>10</th>\n",
              "      <td>thinness 5-9 years</td>\n",
              "      <td>-0.041420</td>\n",
              "    </tr>\n",
              "    <tr>\n",
              "      <th>11</th>\n",
              "      <td>Alcohol</td>\n",
              "      <td>-0.158554</td>\n",
              "    </tr>\n",
              "    <tr>\n",
              "      <th>12</th>\n",
              "      <td>HIV/AIDS</td>\n",
              "      <td>-0.444017</td>\n",
              "    </tr>\n",
              "  </tbody>\n",
              "</table>\n",
              "</div>\n",
              "      <button class=\"colab-df-convert\" onclick=\"convertToInteractive('df-a5abb2b5-d910-41b9-a820-8453499685ad')\"\n",
              "              title=\"Convert this dataframe to an interactive table.\"\n",
              "              style=\"display:none;\">\n",
              "        \n",
              "  <svg xmlns=\"http://www.w3.org/2000/svg\" height=\"24px\"viewBox=\"0 0 24 24\"\n",
              "       width=\"24px\">\n",
              "    <path d=\"M0 0h24v24H0V0z\" fill=\"none\"/>\n",
              "    <path d=\"M18.56 5.44l.94 2.06.94-2.06 2.06-.94-2.06-.94-.94-2.06-.94 2.06-2.06.94zm-11 1L8.5 8.5l.94-2.06 2.06-.94-2.06-.94L8.5 2.5l-.94 2.06-2.06.94zm10 10l.94 2.06.94-2.06 2.06-.94-2.06-.94-.94-2.06-.94 2.06-2.06.94z\"/><path d=\"M17.41 7.96l-1.37-1.37c-.4-.4-.92-.59-1.43-.59-.52 0-1.04.2-1.43.59L10.3 9.45l-7.72 7.72c-.78.78-.78 2.05 0 2.83L4 21.41c.39.39.9.59 1.41.59.51 0 1.02-.2 1.41-.59l7.78-7.78 2.81-2.81c.8-.78.8-2.07 0-2.86zM5.41 20L4 18.59l7.72-7.72 1.47 1.35L5.41 20z\"/>\n",
              "  </svg>\n",
              "      </button>\n",
              "      \n",
              "  <style>\n",
              "    .colab-df-container {\n",
              "      display:flex;\n",
              "      flex-wrap:wrap;\n",
              "      gap: 12px;\n",
              "    }\n",
              "\n",
              "    .colab-df-convert {\n",
              "      background-color: #E8F0FE;\n",
              "      border: none;\n",
              "      border-radius: 50%;\n",
              "      cursor: pointer;\n",
              "      display: none;\n",
              "      fill: #1967D2;\n",
              "      height: 32px;\n",
              "      padding: 0 0 0 0;\n",
              "      width: 32px;\n",
              "    }\n",
              "\n",
              "    .colab-df-convert:hover {\n",
              "      background-color: #E2EBFA;\n",
              "      box-shadow: 0px 1px 2px rgba(60, 64, 67, 0.3), 0px 1px 3px 1px rgba(60, 64, 67, 0.15);\n",
              "      fill: #174EA6;\n",
              "    }\n",
              "\n",
              "    [theme=dark] .colab-df-convert {\n",
              "      background-color: #3B4455;\n",
              "      fill: #D2E3FC;\n",
              "    }\n",
              "\n",
              "    [theme=dark] .colab-df-convert:hover {\n",
              "      background-color: #434B5C;\n",
              "      box-shadow: 0px 1px 3px 1px rgba(0, 0, 0, 0.15);\n",
              "      filter: drop-shadow(0px 1px 2px rgba(0, 0, 0, 0.3));\n",
              "      fill: #FFFFFF;\n",
              "    }\n",
              "  </style>\n",
              "\n",
              "      <script>\n",
              "        const buttonEl =\n",
              "          document.querySelector('#df-a5abb2b5-d910-41b9-a820-8453499685ad button.colab-df-convert');\n",
              "        buttonEl.style.display =\n",
              "          google.colab.kernel.accessAllowed ? 'block' : 'none';\n",
              "\n",
              "        async function convertToInteractive(key) {\n",
              "          const element = document.querySelector('#df-a5abb2b5-d910-41b9-a820-8453499685ad');\n",
              "          const dataTable =\n",
              "            await google.colab.kernel.invokeFunction('convertToInteractive',\n",
              "                                                     [key], {});\n",
              "          if (!dataTable) return;\n",
              "\n",
              "          const docLinkHtml = 'Like what you see? Visit the ' +\n",
              "            '<a target=\"_blank\" href=https://colab.research.google.com/notebooks/data_table.ipynb>data table notebook</a>'\n",
              "            + ' to learn more about interactive tables.';\n",
              "          element.innerHTML = '';\n",
              "          dataTable['output_type'] = 'display_data';\n",
              "          await google.colab.output.renderOutput(dataTable, element);\n",
              "          const docLink = document.createElement('div');\n",
              "          docLink.innerHTML = docLinkHtml;\n",
              "          element.appendChild(docLink);\n",
              "        }\n",
              "      </script>\n",
              "    </div>\n",
              "  </div>\n",
              "  "
            ]
          },
          "metadata": {},
          "execution_count": 153
        }
      ],
      "source": [
        "#Averiguamos la importancia de las variables dentro del modelo\n",
        "importancia = modelo_regresion.coef_\n",
        "importancia_atributo = pd.DataFrame(data={\"Atributo\": X_train.columns,\"Importancia\": importancia})\n",
        "importancia_atributo = importancia_atributo.sort_values(by='Importancia', ascending=False).reset_index(drop=True)\n",
        "importancia_atributo"
      ]
    },
    {
      "cell_type": "markdown",
      "metadata": {
        "id": "h0GL466orWz_"
      },
      "source": [
        "### 5. Interpretación del modelo\n",
        "Otro aspecto que debemos tener en cuenta es la significancia estadística de los coeficientes. Para determinarla, se aplica la prueba t de Student o t-test, con las siguientes hipótesis sobre los coeficientes:\n",
        "\n",
        "H0: wi = 0, es decir, no hay una relación lineal entre la variable dependiente y la independiente.\n",
        "\n",
        "Ha: wi ≠ 0, es decir, sí existe una relación lineal entre ambas variables.\n",
        "\n",
        "El p-valor (en inglés p-value) del coeficiente verifica entonces la hipótesis nula de la siguiente forma:\n",
        "Si el p-valor es menor o igual que el nivel de significancia seleccionado, entonces se puede afirmar que los datos suministran suficiente evidencia para rechazar la hipótesis nula. Es decir, cambios en la variable independiente estarán asociados con cambios en la variable dependiente y esta relación es estadísticamente significativa, por lo que la variable independiente será importante para el modelo de regresión.\n",
        "Si el p-valor es mayor que el nivel de significancia, entonces no hay suficiente evidencia en los datos para rechazar la hipótesis nula y concluir que w1 es significativamente diferente de 0.\n",
        "\n",
        "Por otra parte, el valor de un coeficiente determina cuánto aumenta o se reduce el valor promedio de la variable dependiente cuando la independiente cambia por una unidad. El signo del coeficiente indica si la relación es positiva o negativa.\n",
        "\n",
        "\n",
        "Podemos sacar un reporte que nos va a permitir analizar estadísticos del modelo."
      ]
    },
    {
      "cell_type": "code",
      "execution_count": null,
      "metadata": {
        "colab": {
          "base_uri": "https://localhost:8080/",
          "height": 721
        },
        "id": "ms2r9RTarW0A",
        "outputId": "3c999b12-9752-42c3-b5bc-18d1cbb3693e"
      },
      "outputs": [
        {
          "output_type": "execute_result",
          "data": {
            "text/plain": [
              "<class 'statsmodels.iolib.summary.Summary'>\n",
              "\"\"\"\n",
              "                                 OLS Regression Results                                \n",
              "=======================================================================================\n",
              "Dep. Variable:        Life expectancy   R-squared (uncentered):                   0.986\n",
              "Model:                            OLS   Adj. R-squared (uncentered):              0.986\n",
              "Method:                 Least Squares   F-statistic:                          1.026e+04\n",
              "Date:                Sat, 30 Apr 2022   Prob (F-statistic):                        0.00\n",
              "Time:                        16:46:52   Log-Likelihood:                         -6805.2\n",
              "No. Observations:                1923   AIC:                                  1.364e+04\n",
              "Df Residuals:                    1910   BIC:                                  1.371e+04\n",
              "Df Model:                          13                                                  \n",
              "Covariance Type:            nonrobust                                                  \n",
              "===================================================================================================\n",
              "                                      coef    std err          t      P>|t|      [0.025      0.975]\n",
              "---------------------------------------------------------------------------------------------------\n",
              "Adult Mortality                     0.0166      0.002      9.239      0.000       0.013       0.020\n",
              "Alcohol                            -0.5200      0.060     -8.671      0.000      -0.638      -0.402\n",
              "Hepatitis B                        -0.0144      0.006     -2.553      0.011      -0.025      -0.003\n",
              "BMI                                 0.1678      0.014     11.964      0.000       0.140       0.195\n",
              "Polio                               0.0813      0.011      7.163      0.000       0.059       0.104\n",
              "Total expenditure                   1.0131      0.072     14.076      0.000       0.872       1.154\n",
              "Diphtheria                          0.0721      0.012      5.832      0.000       0.048       0.096\n",
              "HIV/AIDS                           -0.5827      0.042    -14.001      0.000      -0.664      -0.501\n",
              "GDP                             -3.253e-05   1.59e-05     -2.040      0.042   -6.38e-05   -1.25e-06\n",
              "thinness  10-19 years               0.7123      0.118      6.014      0.000       0.480       0.945\n",
              "thinness 5-9 years                  0.3326      0.119      2.798      0.005       0.099       0.566\n",
              "Income composition of resources    22.0922      1.857     11.900      0.000      18.451      25.733\n",
              "Schooling                           2.1969      0.112     19.693      0.000       1.978       2.416\n",
              "==============================================================================\n",
              "Omnibus:                      306.503   Durbin-Watson:                   0.618\n",
              "Prob(Omnibus):                  0.000   Jarque-Bera (JB):              936.788\n",
              "Skew:                           0.810   Prob(JB):                    3.79e-204\n",
              "Kurtosis:                       6.011   Cond. No.                     1.59e+05\n",
              "==============================================================================\n",
              "\n",
              "Warnings:\n",
              "[1] Standard Errors assume that the covariance matrix of the errors is correctly specified.\n",
              "[2] The condition number is large, 1.59e+05. This might indicate that there are\n",
              "strong multicollinearity or other numerical problems.\n",
              "\"\"\""
            ],
            "text/html": [
              "<table class=\"simpletable\">\n",
              "<caption>OLS Regression Results</caption>\n",
              "<tr>\n",
              "  <th>Dep. Variable:</th>     <td>Life expectancy</td> <th>  R-squared (uncentered):</th>      <td>   0.986</td> \n",
              "</tr>\n",
              "<tr>\n",
              "  <th>Model:</th>                   <td>OLS</td>       <th>  Adj. R-squared (uncentered):</th> <td>   0.986</td> \n",
              "</tr>\n",
              "<tr>\n",
              "  <th>Method:</th>             <td>Least Squares</td>  <th>  F-statistic:       </th>          <td>1.026e+04</td>\n",
              "</tr>\n",
              "<tr>\n",
              "  <th>Date:</th>             <td>Sat, 30 Apr 2022</td> <th>  Prob (F-statistic):</th>           <td>  0.00</td>  \n",
              "</tr>\n",
              "<tr>\n",
              "  <th>Time:</th>                 <td>16:46:52</td>     <th>  Log-Likelihood:    </th>          <td> -6805.2</td> \n",
              "</tr>\n",
              "<tr>\n",
              "  <th>No. Observations:</th>      <td>  1923</td>      <th>  AIC:               </th>          <td>1.364e+04</td>\n",
              "</tr>\n",
              "<tr>\n",
              "  <th>Df Residuals:</th>          <td>  1910</td>      <th>  BIC:               </th>          <td>1.371e+04</td>\n",
              "</tr>\n",
              "<tr>\n",
              "  <th>Df Model:</th>              <td>    13</td>      <th>                     </th>              <td> </td>    \n",
              "</tr>\n",
              "<tr>\n",
              "  <th>Covariance Type:</th>      <td>nonrobust</td>    <th>                     </th>              <td> </td>    \n",
              "</tr>\n",
              "</table>\n",
              "<table class=\"simpletable\">\n",
              "<tr>\n",
              "                 <td></td>                    <th>coef</th>     <th>std err</th>      <th>t</th>      <th>P>|t|</th>  <th>[0.025</th>    <th>0.975]</th>  \n",
              "</tr>\n",
              "<tr>\n",
              "  <th>Adult Mortality</th>                 <td>    0.0166</td> <td>    0.002</td> <td>    9.239</td> <td> 0.000</td> <td>    0.013</td> <td>    0.020</td>\n",
              "</tr>\n",
              "<tr>\n",
              "  <th>Alcohol</th>                         <td>   -0.5200</td> <td>    0.060</td> <td>   -8.671</td> <td> 0.000</td> <td>   -0.638</td> <td>   -0.402</td>\n",
              "</tr>\n",
              "<tr>\n",
              "  <th>Hepatitis B</th>                     <td>   -0.0144</td> <td>    0.006</td> <td>   -2.553</td> <td> 0.011</td> <td>   -0.025</td> <td>   -0.003</td>\n",
              "</tr>\n",
              "<tr>\n",
              "  <th>BMI</th>                             <td>    0.1678</td> <td>    0.014</td> <td>   11.964</td> <td> 0.000</td> <td>    0.140</td> <td>    0.195</td>\n",
              "</tr>\n",
              "<tr>\n",
              "  <th>Polio</th>                           <td>    0.0813</td> <td>    0.011</td> <td>    7.163</td> <td> 0.000</td> <td>    0.059</td> <td>    0.104</td>\n",
              "</tr>\n",
              "<tr>\n",
              "  <th>Total expenditure</th>               <td>    1.0131</td> <td>    0.072</td> <td>   14.076</td> <td> 0.000</td> <td>    0.872</td> <td>    1.154</td>\n",
              "</tr>\n",
              "<tr>\n",
              "  <th>Diphtheria</th>                      <td>    0.0721</td> <td>    0.012</td> <td>    5.832</td> <td> 0.000</td> <td>    0.048</td> <td>    0.096</td>\n",
              "</tr>\n",
              "<tr>\n",
              "  <th>HIV/AIDS</th>                        <td>   -0.5827</td> <td>    0.042</td> <td>  -14.001</td> <td> 0.000</td> <td>   -0.664</td> <td>   -0.501</td>\n",
              "</tr>\n",
              "<tr>\n",
              "  <th>GDP</th>                             <td>-3.253e-05</td> <td> 1.59e-05</td> <td>   -2.040</td> <td> 0.042</td> <td>-6.38e-05</td> <td>-1.25e-06</td>\n",
              "</tr>\n",
              "<tr>\n",
              "  <th>thinness  10-19 years</th>           <td>    0.7123</td> <td>    0.118</td> <td>    6.014</td> <td> 0.000</td> <td>    0.480</td> <td>    0.945</td>\n",
              "</tr>\n",
              "<tr>\n",
              "  <th>thinness 5-9 years</th>              <td>    0.3326</td> <td>    0.119</td> <td>    2.798</td> <td> 0.005</td> <td>    0.099</td> <td>    0.566</td>\n",
              "</tr>\n",
              "<tr>\n",
              "  <th>Income composition of resources</th> <td>   22.0922</td> <td>    1.857</td> <td>   11.900</td> <td> 0.000</td> <td>   18.451</td> <td>   25.733</td>\n",
              "</tr>\n",
              "<tr>\n",
              "  <th>Schooling</th>                       <td>    2.1969</td> <td>    0.112</td> <td>   19.693</td> <td> 0.000</td> <td>    1.978</td> <td>    2.416</td>\n",
              "</tr>\n",
              "</table>\n",
              "<table class=\"simpletable\">\n",
              "<tr>\n",
              "  <th>Omnibus:</th>       <td>306.503</td> <th>  Durbin-Watson:     </th> <td>   0.618</td> \n",
              "</tr>\n",
              "<tr>\n",
              "  <th>Prob(Omnibus):</th> <td> 0.000</td>  <th>  Jarque-Bera (JB):  </th> <td> 936.788</td> \n",
              "</tr>\n",
              "<tr>\n",
              "  <th>Skew:</th>          <td> 0.810</td>  <th>  Prob(JB):          </th> <td>3.79e-204</td>\n",
              "</tr>\n",
              "<tr>\n",
              "  <th>Kurtosis:</th>      <td> 6.011</td>  <th>  Cond. No.          </th> <td>1.59e+05</td> \n",
              "</tr>\n",
              "</table><br/><br/>Warnings:<br/>[1] Standard Errors assume that the covariance matrix of the errors is correctly specified.<br/>[2] The condition number is large, 1.59e+05. This might indicate that there are<br/>strong multicollinearity or other numerical problems."
            ]
          },
          "metadata": {},
          "execution_count": 154
        }
      ],
      "source": [
        "# Ajustar el modelo para ver el reporte\n",
        "model = sm.OLS(Y, X).fit()\n",
        "# Mostrar las estadísticas del modelo\n",
        "model.summary()"
      ]
    },
    {
      "cell_type": "markdown",
      "source": [
        "# Conclusiones\n",
        "Luego de ejecutar el modelo, se pueden realizar diferentes pruebas de hipotesis sobre el mismo. Para este caso, se decidieron ejecutar pruebas T para analizar cada una de las variables de manera independiente con respecto a nuestra variable objetivo. Teniendo el p-Value de cada una de las variables y el resultado de nuestra prueba T, podemos definir que las variables que tienen más influencia en la expectativa de vida de una persona son el consumo de Alcohol el indice de BMI, Polio,Diphtheria y HIV/AIDS."
      ],
      "metadata": {
        "id": "1wKZWIDZVk6z"
      }
    },
    {
      "cell_type": "markdown",
      "metadata": {
        "id": "XQqOcoCLrW0A"
      },
      "source": [
        "# 6. Almacenamiento  del modelo.\n",
        "Puedes guardar tu modelo para que lo puedas recuperar cuando lo desees o llevarlo a producción."
      ]
    },
    {
      "cell_type": "code",
      "execution_count": null,
      "metadata": {
        "colab": {
          "base_uri": "https://localhost:8080/"
        },
        "id": "v7pDTOhorW0A",
        "outputId": "30f1a2ed-88d9-4ac0-b841-0a75cfcede64"
      },
      "outputs": [
        {
          "output_type": "execute_result",
          "data": {
            "text/plain": [
              "['ModeloRegresionLab3.joblib']"
            ]
          },
          "metadata": {},
          "execution_count": 31
        }
      ],
      "source": [
        "# Una forma de guardar el modelo es a través de la funcionalidad joblib.\n",
        "import joblib\n",
        "# Ahora guardamos el modelo con el nombre que selecciones.\n",
        "joblib.dump(modelo_regresion, 'ModeloRegresionLab3.joblib')\n",
        "# Si lo quieres recuperar más tarde puedes utilizar la siguiente instrucción:\n",
        "# modelo = load('ModeloRegresion.joblib') "
      ]
    }
  ],
  "metadata": {
    "interpreter": {
      "hash": "9387e9e37a0af8fff0fcbade4737076ebc87d0c8fec44545ee3d2fd05cdc73df"
    },
    "kernelspec": {
      "display_name": "Python 3.8.5 ('base')",
      "language": "python",
      "name": "python3"
    },
    "language_info": {
      "codemirror_mode": {
        "name": "ipython",
        "version": 3
      },
      "file_extension": ".py",
      "mimetype": "text/x-python",
      "name": "python",
      "nbconvert_exporter": "python",
      "pygments_lexer": "ipython3",
      "version": "3.8.5"
    },
    "orig_nbformat": 4,
    "colab": {
      "name": "Copia de Laboratorio3.ipynb",
      "provenance": [],
      "collapsed_sections": []
    }
  },
  "nbformat": 4,
  "nbformat_minor": 0
}